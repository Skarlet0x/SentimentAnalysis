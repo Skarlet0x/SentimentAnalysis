{
  "cells": [
    {
      "cell_type": "markdown",
      "metadata": {
        "id": "8gEVQHSCP4sC"
      },
      "source": [
        "###IMPORTS\n",
        "\n",
        "---\n",
        "\n",
        "\n",
        "\n"
      ]
    },
    {
      "cell_type": "code",
      "execution_count": null,
      "metadata": {
        "id": "KLrj9WztkFm_"
      },
      "outputs": [],
      "source": [
        "!pip install tensorflow"
      ]
    },
    {
      "cell_type": "code",
      "execution_count": null,
      "metadata": {
        "id": "Vd8Xv-bbP2l3"
      },
      "outputs": [],
      "source": [
        "import numpy as np\n",
        "import pandas as pd\n",
        "import matplotlib.pyplot as plt\n",
        "\n",
        "import re\n",
        "import nltk\n",
        "\n",
        "import tensorflow as tf"
      ]
    },
    {
      "cell_type": "markdown",
      "metadata": {
        "id": "7O0EOPeUQd4R"
      },
      "source": [
        "###DATASET\n",
        "\n",
        "---\n",
        "\n"
      ]
    },
    {
      "cell_type": "code",
      "execution_count": null,
      "metadata": {
        "id": "5PJMY-nVXPwZ"
      },
      "outputs": [],
      "source": [
        "# this dataset doesn't containt labels for columns\n",
        "columns = [\"sentiment\", \"id\", \"date\", \"query\", \"user\", \"tweet\"]\n",
        "\n",
        "dataset = pd.read_csv(\"data.csv\", \n",
        "                      header=None,\n",
        "                      names=columns,\n",
        "                      engine=\"python\",\n",
        "                      encoding=\"latin1\",\n",
        "                      error_bad_lines=False)"
      ]
    },
    {
      "cell_type": "code",
      "execution_count": null,
      "metadata": {
        "id": "B4INwsLKg6-R",
        "scrolled": true
      },
      "outputs": [],
      "source": [
        "# get rid of unneccessary columns\n",
        "dataset.drop([\"id\", \"date\", \"query\", \"user\"],\n",
        "          axis=1,\n",
        "          inplace=True)"
      ]
    },
    {
      "cell_type": "code",
      "execution_count": null,
      "metadata": {
        "id": "g5lXd01VhEX8",
        "outputId": "6305199e-f548-4b3d-d331-1bd1d9545fb1"
      },
      "outputs": [
        {
          "data": {
            "text/html": [
              "<div>\n",
              "<style scoped>\n",
              "    .dataframe tbody tr th:only-of-type {\n",
              "        vertical-align: middle;\n",
              "    }\n",
              "\n",
              "    .dataframe tbody tr th {\n",
              "        vertical-align: top;\n",
              "    }\n",
              "\n",
              "    .dataframe thead th {\n",
              "        text-align: right;\n",
              "    }\n",
              "</style>\n",
              "<table border=\"1\" class=\"dataframe\">\n",
              "  <thead>\n",
              "    <tr style=\"text-align: right;\">\n",
              "      <th></th>\n",
              "      <th>sentiment</th>\n",
              "      <th>tweet</th>\n",
              "    </tr>\n",
              "  </thead>\n",
              "  <tbody>\n",
              "    <tr>\n",
              "      <th>0</th>\n",
              "      <td>0</td>\n",
              "      <td>@switchfoot http://twitpic.com/2y1zl - Awww, t...</td>\n",
              "    </tr>\n",
              "    <tr>\n",
              "      <th>1</th>\n",
              "      <td>0</td>\n",
              "      <td>is upset that he can't update his Facebook by ...</td>\n",
              "    </tr>\n",
              "    <tr>\n",
              "      <th>2</th>\n",
              "      <td>0</td>\n",
              "      <td>@Kenichan I dived many times for the ball. Man...</td>\n",
              "    </tr>\n",
              "    <tr>\n",
              "      <th>3</th>\n",
              "      <td>0</td>\n",
              "      <td>my whole body feels itchy and like its on fire</td>\n",
              "    </tr>\n",
              "    <tr>\n",
              "      <th>4</th>\n",
              "      <td>0</td>\n",
              "      <td>@nationwideclass no, it's not behaving at all....</td>\n",
              "    </tr>\n",
              "  </tbody>\n",
              "</table>\n",
              "</div>"
            ],
            "text/plain": [
              "   sentiment                                              tweet\n",
              "0          0  @switchfoot http://twitpic.com/2y1zl - Awww, t...\n",
              "1          0  is upset that he can't update his Facebook by ...\n",
              "2          0  @Kenichan I dived many times for the ball. Man...\n",
              "3          0    my whole body feels itchy and like its on fire \n",
              "4          0  @nationwideclass no, it's not behaving at all...."
            ]
          },
          "execution_count": 5,
          "metadata": {},
          "output_type": "execute_result"
        }
      ],
      "source": [
        "dataset.head()"
      ]
    },
    {
      "cell_type": "code",
      "execution_count": null,
      "metadata": {
        "id": "Zl_wyFAcikFR",
        "outputId": "12623005-faa8-404a-fa6a-978beee7ebf0"
      },
      "outputs": [
        {
          "data": {
            "text/plain": [
              "array([0, 4, 2], dtype=int64)"
            ]
          },
          "execution_count": 6,
          "metadata": {},
          "output_type": "execute_result"
        }
      ],
      "source": [
        "dataset[\"sentiment\"].unique()"
      ]
    },
    {
      "cell_type": "code",
      "execution_count": null,
      "metadata": {
        "id": "2E1typrLadWY",
        "outputId": "b6ff42ed-10f2-49e9-c3fb-7d7aae040656"
      },
      "outputs": [
        {
          "data": {
            "text/html": [
              "<div>\n",
              "<style scoped>\n",
              "    .dataframe tbody tr th:only-of-type {\n",
              "        vertical-align: middle;\n",
              "    }\n",
              "\n",
              "    .dataframe tbody tr th {\n",
              "        vertical-align: top;\n",
              "    }\n",
              "\n",
              "    .dataframe thead th {\n",
              "        text-align: right;\n",
              "    }\n",
              "</style>\n",
              "<table border=\"1\" class=\"dataframe\">\n",
              "  <thead>\n",
              "    <tr style=\"text-align: right;\">\n",
              "      <th></th>\n",
              "      <th>sentiment</th>\n",
              "      <th>tweet</th>\n",
              "    </tr>\n",
              "  </thead>\n",
              "  <tbody>\n",
              "    <tr>\n",
              "      <th>1600009</th>\n",
              "      <td>2</td>\n",
              "      <td>Check this video out -- President Obama at the...</td>\n",
              "    </tr>\n",
              "    <tr>\n",
              "      <th>1600029</th>\n",
              "      <td>2</td>\n",
              "      <td>need suggestions for a good IR filter for my c...</td>\n",
              "    </tr>\n",
              "    <tr>\n",
              "      <th>1600030</th>\n",
              "      <td>2</td>\n",
              "      <td>@surfit: I just checked my google for my busin...</td>\n",
              "    </tr>\n",
              "    <tr>\n",
              "      <th>1600044</th>\n",
              "      <td>2</td>\n",
              "      <td>is in San Francisco at Bay to Breakers.</td>\n",
              "    </tr>\n",
              "    <tr>\n",
              "      <th>1600045</th>\n",
              "      <td>2</td>\n",
              "      <td>just landed at San Francisco</td>\n",
              "    </tr>\n",
              "    <tr>\n",
              "      <th>...</th>\n",
              "      <td>...</td>\n",
              "      <td>...</td>\n",
              "    </tr>\n",
              "    <tr>\n",
              "      <th>1600474</th>\n",
              "      <td>2</td>\n",
              "      <td>has a date with bobby flay and gut fieri from ...</td>\n",
              "    </tr>\n",
              "    <tr>\n",
              "      <th>1600482</th>\n",
              "      <td>2</td>\n",
              "      <td>How to Track Iran with Social Media: http://bi...</td>\n",
              "    </tr>\n",
              "    <tr>\n",
              "      <th>1600485</th>\n",
              "      <td>2</td>\n",
              "      <td>Twitter Stock buzz: $AAPL $ES_F $SPY $SPX $PAL...</td>\n",
              "    </tr>\n",
              "    <tr>\n",
              "      <th>1600487</th>\n",
              "      <td>2</td>\n",
              "      <td>@johncmayer is Bobby Flay joining you?</td>\n",
              "    </tr>\n",
              "    <tr>\n",
              "      <th>1600492</th>\n",
              "      <td>2</td>\n",
              "      <td>Ask Programming: LaTeX or InDesign?: submitted...</td>\n",
              "    </tr>\n",
              "  </tbody>\n",
              "</table>\n",
              "<p>139 rows × 2 columns</p>\n",
              "</div>"
            ],
            "text/plain": [
              "         sentiment                                              tweet\n",
              "1600009          2  Check this video out -- President Obama at the...\n",
              "1600029          2  need suggestions for a good IR filter for my c...\n",
              "1600030          2  @surfit: I just checked my google for my busin...\n",
              "1600044          2            is in San Francisco at Bay to Breakers.\n",
              "1600045          2                       just landed at San Francisco\n",
              "...            ...                                                ...\n",
              "1600474          2  has a date with bobby flay and gut fieri from ...\n",
              "1600482          2  How to Track Iran with Social Media: http://bi...\n",
              "1600485          2  Twitter Stock buzz: $AAPL $ES_F $SPY $SPX $PAL...\n",
              "1600487          2             @johncmayer is Bobby Flay joining you?\n",
              "1600492          2  Ask Programming: LaTeX or InDesign?: submitted...\n",
              "\n",
              "[139 rows x 2 columns]"
            ]
          },
          "execution_count": 7,
          "metadata": {},
          "output_type": "execute_result"
        }
      ],
      "source": [
        "# neutral sentiment - not needed\n",
        "dataset.loc[dataset[\"sentiment\"] == 2]"
      ]
    },
    {
      "cell_type": "code",
      "execution_count": null,
      "metadata": {
        "id": "lPIEf-MZa88Y"
      },
      "outputs": [],
      "source": [
        "dataset.drop(dataset.loc[dataset[\"sentiment\"]==2].index, inplace=True)"
      ]
    },
    {
      "cell_type": "code",
      "execution_count": null,
      "metadata": {
        "id": "OCdl6JcYio8v"
      },
      "outputs": [],
      "source": [
        "# change labels\n",
        "data_labels = dataset[\"sentiment\"].values\n",
        "data_labels[data_labels == 4] = 1"
      ]
    },
    {
      "cell_type": "code",
      "execution_count": null,
      "metadata": {
        "id": "8i-gSHXCi0P1",
        "outputId": "4fdc156a-91e0-4349-bb00-f33c4aa9b86e"
      },
      "outputs": [
        {
          "data": {
            "text/plain": [
              "array([0, 1], dtype=int64)"
            ]
          },
          "execution_count": 10,
          "metadata": {},
          "output_type": "execute_result"
        }
      ],
      "source": [
        "dataset[\"sentiment\"].unique()"
      ]
    },
    {
      "cell_type": "code",
      "execution_count": null,
      "metadata": {
        "id": "L2yb3X2Jnir0",
        "outputId": "2bfb5a78-4039-420e-e4ef-e1b950cd7c9e"
      },
      "outputs": [
        {
          "data": {
            "image/png": "[encoded data removed]",
            "text/plain": [
              "<Figure size 504x504 with 1 Axes>"
            ]
          },
          "metadata": {},
          "output_type": "display_data"
        }
      ],
      "source": [
        "# check if the dataset is balanced\n",
        "labels = [\"positive\", \"negative\"]\n",
        "colors = [\"olivedrab\", \"silver\"]\n",
        "\n",
        "plt.figure(figsize=(7,7))\n",
        "plt.pie(dataset[\"sentiment\"].value_counts(), labels=labels, colors=colors, autopct=\"%1.1f%%\")\n",
        "plt.legend(title = \"Tweet sentiments:\")\n",
        "plt.title(\"Sentiment distribution\")\n",
        "plt.show()"
      ]
    },
    {
      "cell_type": "markdown",
      "metadata": {
        "id": "B5b8PhnMQutp"
      },
      "source": [
        "###DATA PREPROCESSING\n",
        "\n",
        "---\n",
        "\n"
      ]
    },
    {
      "cell_type": "markdown",
      "metadata": {
        "id": "43t_5kiSFQBz"
      },
      "source": [
        "**PUNCTUATION AND OTHER JUNK**\n",
        "\n",
        "---\n",
        "\n"
      ]
    },
    {
      "cell_type": "code",
      "execution_count": null,
      "metadata": {
        "id": "DrdmASZyjbHD"
      },
      "outputs": [],
      "source": [
        "from bs4 import BeautifulSoup\n",
        "\n",
        "def clean_text(text):\n",
        "    # xml info\n",
        "    text = BeautifulSoup(text, \"lxml\").get_text()\n",
        "    # tags @name\n",
        "    text = re.sub(r\"@[A-Za-z0-9]+\", \" \", text)\n",
        "    # hyperlinks\n",
        "    text = re.sub(r\"https?://[A-Za-z0-9./]+\", \" \", text)\n",
        "    # punctuation, except '\n",
        "    text = re.sub(r\"[^a-zA-Z']\", \" \", text)\n",
        "    # double whitespaces\n",
        "    text = re.sub(r\" +\", \" \", text)\n",
        "    # lower-case\n",
        "    text = text.lower()\n",
        "  \n",
        "    return text"
      ]
    },
    {
      "cell_type": "code",
      "execution_count": null,
      "metadata": {
        "id": "kJ6TPSb2WXpL"
      },
      "outputs": [],
      "source": [
        "data_clean = [clean_text(tweet) for tweet in dataset[\"tweet\"]]"
      ]
    },
    {
      "cell_type": "code",
      "execution_count": null,
      "metadata": {
        "id": "0rFAqfb4c6da",
        "outputId": "56568ee8-495d-480c-91f1-c1d5009544c4"
      },
      "outputs": [
        {
          "data": {
            "text/plain": [
              "[\" awww that's a bummer you shoulda got david carr of third day to do it d\",\n",
              " \"is upset that he can't update his facebook by texting it and might cry as a result school today also blah \",\n",
              " ' i dived many times for the ball managed to save the rest go out of bounds',\n",
              " 'my whole body feels itchy and like its on fire ',\n",
              " \" no it's not behaving at all i'm mad why am i here because i can't see you all over there \",\n",
              " ' not the whole crew ',\n",
              " 'need a hug ',\n",
              " \" hey long time no see yes rains a bit only a bit lol i'm fine thanks how's you \",\n",
              " \" k nope they didn't have it \",\n",
              " ' que me muera ',\n",
              " \"spring break in plain city it's snowing \",\n",
              " 'i just re pierced my ears ',\n",
              " \" i couldn't bear to watch it and i thought the ua loss was embarrassing \",\n",
              " ' it it counts idk why i did either you never talk to me anymore ',\n",
              " \" i would've been the first but i didn't have a gun not really though zac snyder's just a doucheclown \"]"
            ]
          },
          "execution_count": 14,
          "metadata": {},
          "output_type": "execute_result"
        }
      ],
      "source": [
        "data_clean[:15]"
      ]
    },
    {
      "cell_type": "markdown",
      "metadata": {
        "id": "5i5euOzvFVEs"
      },
      "source": [
        "**LEMMATIZATION & STOP WORD REMOVAL**\n",
        "\n",
        "---\n",
        "\n"
      ]
    },
    {
      "cell_type": "markdown",
      "metadata": {
        "id": "UKCKsPxlw-q5"
      },
      "source": [
        "https://aclanthology.org/W18-5406.pdf\n",
        "\n",
        "\"In general, a simple tokenization works equally or better than more complex preprocessing techniques such as lemmatization or multiword grouping, except for domain-specific datasets (such as the medical dataset in our experiments) in which sole tokenization performs poorly\" [44] \n",
        "\n",
        "--- \n",
        "\n",
        "Based on this, decided not to lemmatize, only tokenize and remove stop words "
      ]
    },
    {
      "cell_type": "code",
      "execution_count": null,
      "metadata": {
        "colab": {
          "base_uri": "https://localhost:8080/"
        },
        "id": "P9DkAEVtCwoV",
        "outputId": "5f1f1ceb-4728-476e-c998-d037e3a34472"
      },
      "outputs": [
        {
          "name": "stderr",
          "output_type": "stream",
          "text": [
            "[nltk_data] Downloading package stopwords to C:\\Users\\Petra\n",
            "[nltk_data]     Bajac\\AppData\\Roaming\\nltk_data...\n",
            "[nltk_data]   Package stopwords is already up-to-date!\n"
          ]
        }
      ],
      "source": [
        "from nltk.corpus import stopwords\n",
        "\n",
        "nltk.download(\"stopwords\")\n",
        "\n",
        "all_stopwords = stopwords.words(\"english\")\n",
        "# negation is important, don't even know why it's considered a stop word\n",
        "all_stopwords.remove(\"not\")\n",
        "\n",
        "def remove_stopwords(text):\n",
        "    # all words converted into a list of strings\n",
        "    text = text.split()\n",
        "    # checked and removed\n",
        "    text = [word for word in text if not word in set(all_stopwords)]\n",
        "    # joined back a single string\n",
        "    text = \" \".join(text)\n",
        "    return text"
      ]
    },
    {
      "cell_type": "code",
      "execution_count": null,
      "metadata": {
        "id": "kf7RLrZmI6k5"
      },
      "outputs": [],
      "source": [
        "corpus = [remove_stopwords(tweet) for tweet in data_clean]"
      ]
    },
    {
      "cell_type": "code",
      "execution_count": null,
      "metadata": {
        "id": "wCc2IjZrJTQz",
        "outputId": "45749332-b429-4c9a-d2ca-dd67f2cfc215"
      },
      "outputs": [
        {
          "data": {
            "text/plain": [
              "[\"awww that's bummer shoulda got david carr third day\",\n",
              " \"upset can't update facebook texting might cry result school today also blah\",\n",
              " 'dived many times ball managed save rest go bounds',\n",
              " 'whole body feels itchy like fire',\n",
              " \"not behaving i'm mad can't see\",\n",
              " 'not whole crew',\n",
              " 'need hug',\n",
              " \"hey long time see yes rains bit bit lol i'm fine thanks how's\",\n",
              " 'k nope',\n",
              " 'que muera',\n",
              " 'spring break plain city snowing',\n",
              " 'pierced ears',\n",
              " 'bear watch thought ua loss embarrassing',\n",
              " 'counts idk either never talk anymore',\n",
              " \"would've first gun not really though zac snyder's doucheclown\"]"
            ]
          },
          "execution_count": 17,
          "metadata": {},
          "output_type": "execute_result"
        }
      ],
      "source": [
        "corpus[:15]"
      ]
    },
    {
      "cell_type": "markdown",
      "metadata": {
        "id": "Jwmp_9FJFahE"
      },
      "source": [
        "**EMBEDDING**\n",
        "\n",
        "---\n",
        "\n"
      ]
    },
    {
      "cell_type": "code",
      "execution_count": null,
      "metadata": {
        "id": "uI02e8Bxnwdk"
      },
      "outputs": [],
      "source": [
        "# UPGRADE TO BERT or TF-IDF LATER"
      ]
    },
    {
      "cell_type": "code",
      "execution_count": null,
      "metadata": {
        "id": "iqbql32koooA"
      },
      "outputs": [],
      "source": [
        "# TENSORFLOW TOKENIZER -- to be used with CNN\n",
        "\n",
        "from tensorflow.keras.preprocessing.text import Tokenizer\n",
        "\n",
        "# consider using **args instead of manually cleaning data\n",
        "tokenizer = Tokenizer()\n",
        "tokenizer.fit_on_texts(corpus)"
      ]
    },
    {
      "cell_type": "code",
      "execution_count": null,
      "metadata": {
        "id": "x44nBGg3seqM"
      },
      "outputs": [],
      "source": [
        "embedded_data = tokenizer.texts_to_sequences(corpus)"
      ]
    },
    {
      "cell_type": "code",
      "execution_count": null,
      "metadata": {
        "id": "neoyOh7a7Twj"
      },
      "outputs": [],
      "source": [
        "# BAG OF WORDS -- to be used with Naive Bayes\n",
        "\n",
        "# from sklearn.feature_extraction.text import CountVectorizer\n",
        "\n",
        "# consider using **args instead of manually cleaning data\n",
        "# vectorizer = CountVectorizer()\n",
        "# embedded_data = vectorizer.fit_transform(corpus)"
      ]
    },
    {
      "cell_type": "code",
      "execution_count": null,
      "metadata": {
        "id": "ICvMAWPgFfWc"
      },
      "outputs": [],
      "source": [
        "# embedded_data = embedded_data.toarray()"
      ]
    },
    {
      "cell_type": "code",
      "execution_count": null,
      "metadata": {
        "id": "zq1HNMASEwnN",
        "outputId": "47ae15fd-45fe-473e-d5fc-f0ec6e253828"
      },
      "outputs": [
        {
          "data": {
            "text/plain": [
              "array([[0, 0, 0, ..., 0, 0, 0],\n",
              "       [0, 0, 0, ..., 0, 0, 0],\n",
              "       [0, 0, 0, ..., 0, 0, 0],\n",
              "       [0, 0, 0, ..., 0, 0, 0],\n",
              "       [0, 0, 0, ..., 0, 0, 0]], dtype=int64)"
            ]
          },
          "execution_count": 24,
          "metadata": {},
          "output_type": "execute_result"
        }
      ],
      "source": [
        "embedded_data[:5]"
      ]
    },
    {
      "cell_type": "markdown",
      "metadata": {
        "id": "CFu7eiopFc3z"
      },
      "source": [
        "**PADDING**\n",
        "\n",
        "---\n",
        "\n"
      ]
    },
    {
      "cell_type": "code",
      "execution_count": null,
      "metadata": {
        "id": "8H0nTAcmnwPX"
      },
      "outputs": [],
      "source": [
        "# pad to the longest tweet in the dataset\n",
        "max_length = max([len(tweet) for tweet in embedded_data])\n",
        "\n",
        "padded_data = tf.keras.preprocessing.sequence.pad_sequences(embedded_data,\n",
        "                                                            value=0,\n",
        "                                                            padding=\"post\",\n",
        "                                                            maxlen=max_length)"
      ]
    },
    {
      "cell_type": "code",
      "execution_count": null,
      "metadata": {
        "id": "hijO2OHIDWzz",
        "outputId": "88b577d0-4377-4fbf-9d45-254ab755fabc"
      },
      "outputs": [
        {
          "data": {
            "text/plain": [
              "array([[  340,    66,  1055,  3342,    12,   740,  9547,  1749,     4,\n",
              "            0,     0,     0,     0,     0,     0,     0,     0,     0,\n",
              "            0,     0,     0,     0,     0,     0,     0,     0,     0,\n",
              "            0,     0,     0,     0,     0,     0,     0,     0,     0,\n",
              "            0],\n",
              "       [  664,    22,   434,   421,  1882,   192,   416,  2190,    69,\n",
              "            8,   170,  1000,     0,     0,     0,     0,     0,     0,\n",
              "            0,     0,     0,     0,     0,     0,     0,     0,     0,\n",
              "            0,     0,     0,     0,     0,     0,     0,     0,     0,\n",
              "            0],\n",
              "       [54943,   210,   245,  1107,  1543,   783,   360,     7, 23262,\n",
              "            0,     0,     0,     0,     0,     0,     0,     0,     0,\n",
              "            0,     0,     0,     0,     0,     0,     0,     0,     0,\n",
              "            0,     0,     0,     0,     0,     0,     0,     0,     0,\n",
              "            0],\n",
              "       [  319,   701,   372,  2746,     6,  1017,     0,     0,     0,\n",
              "            0,     0,     0,     0,     0,     0,     0,     0,     0,\n",
              "            0,     0,     0,     0,     0,     0,     0,     0,     0,\n",
              "            0,     0,     0,     0,     0,     0,     0,     0,     0,\n",
              "            0],\n",
              "       [    2, 10117,     1,   482,    22,    21,     0,     0,     0,\n",
              "            0,     0,     0,     0,     0,     0,     0,     0,     0,\n",
              "            0,     0,     0,     0,     0,     0,     0,     0,     0,\n",
              "            0,     0,     0,     0,     0,     0,     0,     0,     0,\n",
              "            0]])"
            ]
          },
          "execution_count": 61,
          "metadata": {},
          "output_type": "execute_result"
        }
      ],
      "source": [
        "padded_data[:5]"
      ]
    },
    {
      "cell_type": "markdown",
      "metadata": {
        "id": "5uX1jZHpQ3AJ"
      },
      "source": [
        "###TRAIN/TEST/VALIDATION SPLIT\n",
        "\n",
        "---\n",
        "\n"
      ]
    },
    {
      "cell_type": "code",
      "execution_count": null,
      "metadata": {
        "id": "yG31fCQh3i7m"
      },
      "outputs": [],
      "source": [
        "X = padded_data\n",
        "\n",
        "y = dataset[\"sentiment\"].to_numpy()"
      ]
    },
    {
      "cell_type": "code",
      "execution_count": null,
      "metadata": {
        "colab": {
          "base_uri": "https://localhost:8080/"
        },
        "id": "XZntmwMW3TTe",
        "outputId": "b46ce8e9-bd28-49b9-b7aa-81f12f4fb8ba"
      },
      "outputs": [
        {
          "data": {
            "text/plain": [
              "(1600358, 37)"
            ]
          },
          "execution_count": 63,
          "metadata": {},
          "output_type": "execute_result"
        }
      ],
      "source": [
        "# check if shapes match\n",
        "X.shape"
      ]
    },
    {
      "cell_type": "code",
      "execution_count": null,
      "metadata": {
        "colab": {
          "base_uri": "https://localhost:8080/"
        },
        "id": "4h1hzUIo3Uct",
        "outputId": "4e722c84-488e-459a-8bfd-7e815c3ec80b"
      },
      "outputs": [
        {
          "data": {
            "text/plain": [
              "(1600358,)"
            ]
          },
          "execution_count": 64,
          "metadata": {},
          "output_type": "execute_result"
        }
      ],
      "source": [
        "y.shape"
      ]
    },
    {
      "cell_type": "code",
      "execution_count": null,
      "metadata": {
        "id": "ZCUuEvFT3bkG"
      },
      "outputs": [],
      "source": [
        "from sklearn.model_selection import train_test_split\n",
        "\n",
        "X_train, X_remaining, y_train, y_remaining = train_test_split(X, y, test_size = 0.2, random_state = 5)"
      ]
    },
    {
      "cell_type": "code",
      "execution_count": null,
      "metadata": {
        "id": "N409z9MapD9q"
      },
      "outputs": [],
      "source": [
        "# second split for the validation set\n",
        "X_valid, X_test, y_valid, y_test = train_test_split(X_remaining, y_remaining, test_size = 0.5, random_state = 5)"
      ]
    },
    {
      "cell_type": "code",
      "execution_count": null,
      "metadata": {
        "id": "fSTkWP2RGH5P",
        "outputId": "023a0115-917e-4f84-e20f-f9d2e7a85814"
      },
      "outputs": [
        {
          "data": {
            "text/plain": [
              "array([[ 372,   20,  544,    8,    0,    0,    0,    0,    0,    0,    0,\n",
              "           0,    0,    0,    0,    0,    0,    0,    0,    0,    0,    0,\n",
              "           0,    0,    0,    0,    0,    0,    0,    0,    0,    0,    0,\n",
              "           0,    0,    0,    0],\n",
              "       [ 605,    0,    0,    0,    0,    0,    0,    0,    0,    0,    0,\n",
              "           0,    0,    0,    0,    0,    0,    0,    0,    0,    0,    0,\n",
              "           0,    0,    0,    0,    0,    0,    0,    0,    0,    0,    0,\n",
              "           0,    0,    0,    0],\n",
              "       [1683,  152,   50, 1061, 2435,  412,   48,    0,    0,    0,    0,\n",
              "           0,    0,    0,    0,    0,    0,    0,    0,    0,    0,    0,\n",
              "           0,    0,    0,    0,    0,    0,    0,    0,    0,    0,    0,\n",
              "           0,    0,    0,    0],\n",
              "       [  29,    2,  116,   69,  167,   38,    0,    0,    0,    0,    0,\n",
              "           0,    0,    0,    0,    0,    0,    0,    0,    0,    0,    0,\n",
              "           0,    0,    0,    0,    0,    0,    0,    0,    0,    0,    0,\n",
              "           0,    0,    0,    0],\n",
              "       [  11,    5, 6509,    0,    0,    0,    0,    0,    0,    0,    0,\n",
              "           0,    0,    0,    0,    0,    0,    0,    0,    0,    0,    0,\n",
              "           0,    0,    0,    0,    0,    0,    0,    0,    0,    0,    0,\n",
              "           0,    0,    0,    0]])"
            ]
          },
          "execution_count": 67,
          "metadata": {},
          "output_type": "execute_result"
        }
      ],
      "source": [
        "X_train[:5]"
      ]
    },
    {
      "cell_type": "code",
      "execution_count": null,
      "metadata": {
        "id": "kRcAzhrjGbju",
        "outputId": "b1301469-ddb6-495a-f53f-e12fd7d89870"
      },
      "outputs": [
        {
          "data": {
            "text/plain": [
              "array([0, 1, 0, 0, 1], dtype=int64)"
            ]
          },
          "execution_count": 68,
          "metadata": {},
          "output_type": "execute_result"
        }
      ],
      "source": [
        "y_train[:5]"
      ]
    },
    {
      "cell_type": "code",
      "execution_count": null,
      "metadata": {
        "id": "cE-4TyTwGLnH",
        "outputId": "89f542ec-e6fb-4d6a-9eff-2c564f16e6a9"
      },
      "outputs": [
        {
          "data": {
            "text/plain": [
              "array([[0, 0, 0, ..., 0, 0, 0],\n",
              "       [0, 0, 0, ..., 0, 0, 0],\n",
              "       [0, 0, 0, ..., 0, 0, 0],\n",
              "       [0, 0, 0, ..., 0, 0, 0],\n",
              "       [0, 0, 0, ..., 0, 0, 0]])"
            ]
          },
          "execution_count": 35,
          "metadata": {},
          "output_type": "execute_result"
        }
      ],
      "source": [
        "X_valid[:5]"
      ]
    },
    {
      "cell_type": "code",
      "execution_count": null,
      "metadata": {
        "id": "K_KNnXBPGetE",
        "outputId": "47371dd9-ecf4-4384-cd92-234f9e217023"
      },
      "outputs": [
        {
          "data": {
            "text/plain": [
              "array([1, 0, 1, 0, 1], dtype=int64)"
            ]
          },
          "execution_count": 36,
          "metadata": {},
          "output_type": "execute_result"
        }
      ],
      "source": [
        "y_valid[:5]"
      ]
    },
    {
      "cell_type": "code",
      "execution_count": null,
      "metadata": {
        "id": "u4vh-6KSGNIB",
        "outputId": "946f2358-5d6d-4b6d-da83-47d708134cae"
      },
      "outputs": [
        {
          "data": {
            "text/plain": [
              "array([[0, 0, 0, ..., 0, 0, 0],\n",
              "       [0, 0, 0, ..., 0, 0, 0],\n",
              "       [0, 0, 0, ..., 0, 0, 0],\n",
              "       [0, 0, 0, ..., 0, 0, 0],\n",
              "       [0, 0, 0, ..., 0, 0, 0]])"
            ]
          },
          "execution_count": 38,
          "metadata": {},
          "output_type": "execute_result"
        }
      ],
      "source": [
        "X_test[:5]"
      ]
    },
    {
      "cell_type": "code",
      "execution_count": null,
      "metadata": {
        "id": "t1OP-RyxGjhJ",
        "outputId": "77a71cd2-5d5f-48b9-d742-41f0103b02e6"
      },
      "outputs": [
        {
          "data": {
            "text/plain": [
              "array([0, 0, 0, 0, 0], dtype=int64)"
            ]
          },
          "execution_count": 39,
          "metadata": {},
          "output_type": "execute_result"
        }
      ],
      "source": [
        "y_test[:5]"
      ]
    },
    {
      "cell_type": "markdown",
      "metadata": {
        "id": "ceY9X_kbCwLt"
      },
      "source": [
        "###NEW DATA\n",
        "\n",
        "---\n",
        "\n"
      ]
    },
    {
      "cell_type": "code",
      "execution_count": null,
      "metadata": {
        "id": "EZSuA-5QCMtp"
      },
      "outputs": [],
      "source": [
        "# TENSORFLOW TOKENIZER -- to be used with CNN\n",
        "\n",
        "def new_data_cleanup(data):\n",
        "    data = tokenizer.texts_to_sequences(data)\n",
        "    data = data.to_numpy()\n",
        "    return data"
      ]
    },
    {
      "cell_type": "code",
      "execution_count": null,
      "metadata": {
        "id": "52R4Qv3j-Y65"
      },
      "outputs": [],
      "source": [
        "# BAG OF WORDS -- to be used with Naive Bayes\n",
        "\n",
        "# def new_data_cleanup(data):\n",
        "#     data = vectorizer.transform([data])\n",
        "#     data = data.toarray()\n",
        "#     return data"
      ]
    },
    {
      "cell_type": "code",
      "execution_count": null,
      "metadata": {
        "id": "QTz-DUHfC7kf"
      },
      "outputs": [],
      "source": [
        "# for predictions\n",
        "new_tweet = \"I think @Mary is the hottest girl around!\"\n",
        "new_tweet = new_data_cleanup(new_tweet)"
      ]
    },
    {
      "cell_type": "markdown",
      "metadata": {
        "id": "GjndbhOQSHwP"
      },
      "source": [
        "### SIMPLE NAIVE BAYES"
      ]
    },
    {
      "cell_type": "markdown",
      "metadata": {
        "id": "Kam4ZR5LScp-"
      },
      "source": [
        "**MODEL CONFIGURATION**\n",
        "\n",
        "---\n",
        "\n"
      ]
    },
    {
      "cell_type": "code",
      "execution_count": null,
      "metadata": {
        "id": "1UuPN4HIAIc3"
      },
      "outputs": [],
      "source": [
        "from sklearn.naive_bayes import GaussianNB\n",
        "\n",
        "bayes_classifier = GaussianNB()"
      ]
    },
    {
      "cell_type": "markdown",
      "metadata": {
        "id": "eF5D8N0fSfRW"
      },
      "source": [
        "**MODEL TRAINING**\n",
        "\n",
        "---\n",
        "\n"
      ]
    },
    {
      "cell_type": "code",
      "execution_count": null,
      "metadata": {
        "id": "4n-2LUx7AJwM",
        "outputId": "87c6d408-cc67-433a-9d5f-e721be9f6d55"
      },
      "outputs": [
        {
          "data": {
            "text/plain": [
              "GaussianNB()"
            ]
          },
          "execution_count": 45,
          "metadata": {},
          "output_type": "execute_result"
        }
      ],
      "source": [
        "bayes_classifier.fit(X_train, y_train)"
      ]
    },
    {
      "cell_type": "markdown",
      "metadata": {
        "id": "uPrgRPQTShm3"
      },
      "source": [
        "**MODEL EVALUATION**\n",
        "\n",
        "---\n",
        "\n"
      ]
    },
    {
      "cell_type": "code",
      "execution_count": null,
      "metadata": {
        "id": "i5QWtNLcAKFo"
      },
      "outputs": [],
      "source": [
        "y_pred = bayes_classifier.predict(X_test)"
      ]
    },
    {
      "cell_type": "code",
      "execution_count": null,
      "metadata": {
        "id": "5TkqXLry4tKH",
        "outputId": "08ffc358-23a7-4c1d-fde7-bf88c148a854"
      },
      "outputs": [
        {
          "name": "stdout",
          "output_type": "stream",
          "text": [
            "              precision    recall  f1-score   support\n",
            "\n",
            "           0       0.74      0.59      0.66     80083\n",
            "           1       0.66      0.80      0.72     79953\n",
            "\n",
            "    accuracy                           0.70    160036\n",
            "   macro avg       0.70      0.70      0.69    160036\n",
            "weighted avg       0.70      0.70      0.69    160036\n",
            "\n"
          ]
        }
      ],
      "source": [
        "from sklearn.metrics import classification_report\n",
        "\n",
        "# Naive Bayes works cca. 20% better with the Bag of Words embedding model than with the tf-Tokenizer (51% vs 70% accuracy)\n",
        "print(classification_report(y_test, y_pred))"
      ]
    },
    {
      "cell_type": "markdown",
      "metadata": {
        "id": "Ppt2b8CiSjWu"
      },
      "source": [
        "**NEW PREDICTIONS**\n",
        "\n",
        "---\n",
        "\n"
      ]
    },
    {
      "cell_type": "code",
      "execution_count": null,
      "metadata": {
        "id": "5Mg5_K79AKoG"
      },
      "outputs": [],
      "source": [
        "output = bayes_classifier.predict(new_tweet)\n",
        "\n",
        "def prediction(output):\n",
        "   if output[0] == 1:\n",
        "     return \"positive\"\n",
        "   else:\n",
        "     return \"negative\""
      ]
    },
    {
      "cell_type": "code",
      "execution_count": null,
      "metadata": {
        "id": "iDqxZe7CkFnK"
      },
      "outputs": [],
      "source": [
        "prediction(output)"
      ]
    },
    {
      "cell_type": "markdown",
      "metadata": {
        "id": "p6wEhMJIRPxw"
      },
      "source": [
        "### CONVOLUTIONAL NEURAL NETWORK"
      ]
    },
    {
      "cell_type": "markdown",
      "metadata": {
        "id": "KsfmMGbsQ5JZ"
      },
      "source": [
        "**MODEL CONFIGURATION**\n",
        "\n",
        "---\n",
        "\n"
      ]
    },
    {
      "cell_type": "code",
      "source": [
        "# hyperparameters\n",
        "INPUT_SHAPE = X_train.shape[1]\n",
        "VOCABULARY_SIZE = len(tokenizer.word_index)\n",
        "EMBEDDING_DIMENSION = 128\n",
        "FILTERS = 128\n",
        "DROPOUT_RATE = 0.2\n",
        "FFN_UNITS = 512"
      ],
      "metadata": {
        "id": "jvOE5tVEAGmq"
      },
      "execution_count": null,
      "outputs": []
    },
    {
      "cell_type": "code",
      "execution_count": null,
      "metadata": {
        "id": "FFTreh_f8QXZ"
      },
      "outputs": [],
      "source": [
        "# 78% accuracy - try other params/architecture!\n",
        "\n",
        "from keras.models import Sequential\n",
        "from keras.layers import Dense\n",
        "from keras.layers import MaxPool1D\n",
        "from keras.layers import Embedding\n",
        "from keras.layers import Conv1D\n",
        "from keras.layers import Input\n",
        "from keras.layers import GlobalMaxPool1D\n",
        "from keras.layers import Dropout\n",
        "\n",
        "# cnn = tf.keras.models.Sequential()\n",
        "\n",
        "# cnn.add(Input(shape=INPUT_SHAPE,))\n",
        "# cnn.add(Embedding(VOCABULARY_SIZE+1, 20))\n",
        "\n",
        "# cnn.add(Conv1D(filters=32, kernel_size=3, activation=\"relu\"))\n",
        "# cnn.add(MaxPool1D(pool_size=2))\n",
        "# cnn.add(Dropout(DROPOUT_RATE))\n",
        "\n",
        "# cnn.add(Conv1D(filters=64, kernel_size=3, activation=\"relu\"))\n",
        "# cnn.add(MaxPool1D(pool_size=2))\n",
        "# cnn.add(Dropout(DROPOUT_RATE))\n",
        "\n",
        "# cnn.add(Conv1D(filters=128, kernel_size=3, activation=\"relu\"))\n",
        "# cnn.add(GlobalMaxPool1D())\n",
        "\n",
        "# if number of classes == 2, units = 1, activation = \"sigmoid\", else number of classes == units, activation = \"softmax\"\n",
        "# cnn.add(Dense(units=1, activation=\"relu\"))"
      ]
    },
    {
      "cell_type": "code",
      "source": [
        "cnn = tf.keras.models.Sequential()\n",
        "\n",
        "cnn.add(Input(INPUT_SHAPE,))\n",
        "cnn.add(Embedding(VOCABULARY_SIZE, EMBEDDING_DIMENSION))\n",
        "\n",
        "cnn.add(Conv1D(filters=FILTERS, kernel_size=2, activation=\"relu\"))\n",
        "cnn.add(GlobalMaxPool1D())\n",
        "cnn.add(Dropout(DROPOUT_RATE))\n",
        "\n",
        "cnn.add(Conv1D(filters=FILTERS, kernel_size=3, activation=\"relu\"))\n",
        "cnn.add(GlobalMaxPool1D())\n",
        "cnn.add(Dropout(DROPOUT_RATE))\n",
        "\n",
        "cnn.add(Conv1D(filters=FILTERS, kernel_size=4, activation=\"relu\"))\n",
        "cnn.add(GlobalMaxPool1D())\n",
        "cnn.add(Dropout(DROPOUT_RATE))\n",
        "\n",
        "cnn.add(Dense(units=FFN_UNITS, activation=\"relu\"))\n",
        "cnn.add(Dropout(DROPOUT_RATE))\n",
        "\n",
        "# if number of classes == 2, units=1, activation=\"sigmoid\", else number of classes == units, activation=\"softmax\"\n",
        "cnn.add(Dense(units=1, activation=\"sigmoid\"))"
      ],
      "metadata": {
        "id": "zNHkckHB91Wj"
      },
      "execution_count": null,
      "outputs": []
    },
    {
      "cell_type": "code",
      "execution_count": null,
      "metadata": {
        "id": "j4fZw47B8Z3R"
      },
      "outputs": [],
      "source": [
        "# if number of classes == 2, loss=\"binary_crossentropy\", else \"sparse_categorical_crossentropy\", metrics=\"sparse_categorical_accuracy\", for example\n",
        "cnn.compile(optimizer=\"adam\", loss=\"binary_crossentropy\", metrics=[\"accuracy\"])"
      ]
    },
    {
      "cell_type": "code",
      "execution_count": null,
      "metadata": {
        "id": "BzaByCkK8aJx",
        "outputId": "30897999-3fbe-48f4-cea1-5d3e3c763d5c"
      },
      "outputs": [
        {
          "name": "stdout",
          "output_type": "stream",
          "text": [
            "Model: \"sequential_2\"\n",
            "_________________________________________________________________\n",
            " Layer (type)                Output Shape              Param #   \n",
            "=================================================================\n",
            " embedding (Embedding)       (None, 37, 20)            5902680   \n",
            "                                                                 \n",
            " conv1d (Conv1D)             (None, 35, 32)            1952      \n",
            "                                                                 \n",
            " max_pooling1d (MaxPooling1D  (None, 17, 32)           0         \n",
            " )                                                               \n",
            "                                                                 \n",
            " dropout (Dropout)           (None, 17, 32)            0         \n",
            "                                                                 \n",
            " conv1d_1 (Conv1D)           (None, 15, 64)            6208      \n",
            "                                                                 \n",
            " max_pooling1d_1 (MaxPooling  (None, 7, 64)            0         \n",
            " 1D)                                                             \n",
            "                                                                 \n",
            " dropout_1 (Dropout)         (None, 7, 64)             0         \n",
            "                                                                 \n",
            " conv1d_2 (Conv1D)           (None, 5, 128)            24704     \n",
            "                                                                 \n",
            " global_max_pooling1d (Globa  (None, 128)              0         \n",
            " lMaxPooling1D)                                                  \n",
            "                                                                 \n",
            " dense (Dense)               (None, 1)                 129       \n",
            "                                                                 \n",
            "=================================================================\n",
            "Total params: 5,935,673\n",
            "Trainable params: 5,935,673\n",
            "Non-trainable params: 0\n",
            "_________________________________________________________________\n"
          ]
        }
      ],
      "source": [
        "cnn.summary()"
      ]
    },
    {
      "cell_type": "markdown",
      "metadata": {
        "id": "YR78AqTJQ9fp"
      },
      "source": [
        "**MODEL TRAINING**\n",
        "\n",
        "---\n",
        "\n"
      ]
    },
    {
      "cell_type": "code",
      "execution_count": null,
      "metadata": {
        "id": "IiMzBX1GkFnN"
      },
      "outputs": [],
      "source": [
        "# stop after 3 epochs of no improvement on validation loss\n",
        "stop = tf.keras.callbacks.EarlyStopping(monitor=\"val_loss\", patience = 3)"
      ]
    },
    {
      "cell_type": "code",
      "execution_count": null,
      "metadata": {
        "id": "YPfcwyxQ81MJ",
        "outputId": "6537966f-d04f-4b8b-a9ba-510f6f97409b"
      },
      "outputs": [
        {
          "name": "stdout",
          "output_type": "stream",
          "text": [
            "Epoch 1/10\n",
            "1281/1281 [==============================] - 121s 95ms/step - loss: 0.4833 - accuracy: 0.7913 - val_loss: 0.4825 - val_accuracy: 0.7790\n",
            "Epoch 2/10\n",
            "1281/1281 [==============================] - 124s 96ms/step - loss: 0.4988 - accuracy: 0.7826 - val_loss: 0.4837 - val_accuracy: 0.7813\n"
          ]
        },
        {
          "data": {
            "text/plain": [
              "<keras.callbacks.History at 0x182e2f215b0>"
            ]
          },
          "execution_count": 84,
          "metadata": {},
          "output_type": "execute_result"
        }
      ],
      "source": [
        "BATCH_SIZE = 500\n",
        "EPOCHS = 10\n",
        "\n",
        "cnn.fit(x=X_train, y=y_train, epochs=EPOCHS, validation_data=(X_valid, y_valid), batch_size=BATCH_SIZE, callbacks=[stop])"
      ]
    },
    {
      "cell_type": "markdown",
      "metadata": {
        "id": "ImUqeNmvQ-y_"
      },
      "source": [
        "**MODEL EVALUATION**\n",
        "\n",
        "---\n",
        "\n"
      ]
    },
    {
      "cell_type": "code",
      "execution_count": null,
      "metadata": {
        "id": "n6ODifVfAT8B"
      },
      "outputs": [],
      "source": [
        "plt.plot(cnn.history[\"loss\"], label=\"Loss\")\n",
        "plt.plot(cnn.history[\"val_loss\"], label=\"Validation Loss\")\n",
        "plt.legend()\n",
        "plt.show()"
      ]
    },
    {
      "cell_type": "code",
      "execution_count": null,
      "metadata": {
        "id": "WXFz3FEbASjn"
      },
      "outputs": [],
      "source": [
        "plt.plot(cnn.history[\"accuracy\"], label=\"Accuracy\")\n",
        "plt.plot(cnn.history[\"val_accuracy\"], label=\"Validation accuracy\")\n",
        "plt.legend()\n",
        "plt.show()"
      ]
    },
    {
      "cell_type": "code",
      "execution_count": null,
      "metadata": {
        "id": "SR44uhJXAiXu"
      },
      "outputs": [],
      "source": [
        "y_pred = cnn.predict(X_test)\n",
        "\n",
        "print(classification_report(y_test, y_pred))"
      ]
    },
    {
      "cell_type": "markdown",
      "metadata": {
        "id": "rMS0NzQJRHIH"
      },
      "source": [
        "**NEW PREDICTIONS**\n",
        "\n",
        "---\n",
        "\n"
      ]
    },
    {
      "cell_type": "code",
      "execution_count": null,
      "metadata": {
        "id": "r30wwtoM9YCJ"
      },
      "outputs": [],
      "source": [
        "output = cnn.predict(new_tweet)\n",
        "# output = cnn(new_tweet, training=False).numpy()"
      ]
    },
    {
      "cell_type": "code",
      "execution_count": null,
      "metadata": {
        "id": "RLuXAsP49M-w"
      },
      "outputs": [],
      "source": [
        "def prediction(output):\n",
        "   if output[0][0] > 0.7:\n",
        "     return \"positive\"\n",
        "   else:\n",
        "     return \"negative\""
      ]
    },
    {
      "cell_type": "code",
      "execution_count": null,
      "metadata": {
        "id": "dHvyLougD8Dc"
      },
      "outputs": [],
      "source": [
        "prediction(output)"
      ]
    }
  ],
  "metadata": {
    "colab": {
      "collapsed_sections": [],
      "name": "sentiment_analysis.ipynb",
      "provenance": []
    },
    "kernelspec": {
      "display_name": "Python 3",
      "language": "python",
      "name": "python3"
    },
    "language_info": {
      "codemirror_mode": {
        "name": "ipython",
        "version": 3
      },
      "file_extension": ".py",
      "mimetype": "text/x-python",
      "name": "python",
      "nbconvert_exporter": "python",
      "pygments_lexer": "ipython3",
      "version": "3.8.8"
    }
  },
  "nbformat": 4,
  "nbformat_minor": 0
}