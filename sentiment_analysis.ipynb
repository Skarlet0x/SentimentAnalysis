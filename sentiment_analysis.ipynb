{
 "cells": [
  {
   "cell_type": "markdown",
   "metadata": {
    "id": "8gEVQHSCP4sC"
   },
   "source": [
    "### IMPORTS\n",
    "\n",
    "---\n",
    "\n",
    "\n",
    "\n"
   ]
  },
  {
   "cell_type": "code",
   "execution_count": 1,
   "metadata": {
    "id": "Vd8Xv-bbP2l3"
   },
   "outputs": [],
   "source": [
    "import numpy as np\n",
    "import pandas as pd\n",
    "import matplotlib.pyplot as plt\n",
    "\n",
    "import re\n",
    "import nltk\n",
    "\n",
    "import tensorflow as tf"
   ]
  },
  {
   "cell_type": "markdown",
   "metadata": {
    "id": "7O0EOPeUQd4R"
   },
   "source": [
    "### DATASET\n",
    "\n",
    "---\n",
    "\n"
   ]
  },
  {
   "cell_type": "code",
   "execution_count": 2,
   "metadata": {
    "id": "5PJMY-nVXPwZ"
   },
   "outputs": [],
   "source": [
    "# this dataset doesn't containt labels for columns\n",
    "columns = [\"sentiment\", \"id\", \"date\", \"query\", \"user\", \"tweet\"]\n",
    "\n",
    "dataset = pd.read_csv(\"twitter.csv\", \n",
    "                      header=None,\n",
    "                      names=columns,\n",
    "                      engine=\"python\",\n",
    "                      encoding=\"latin1\",\n",
    "                      error_bad_lines=False)"
   ]
  },
  {
   "cell_type": "code",
   "execution_count": 3,
   "metadata": {
    "id": "B4INwsLKg6-R",
    "scrolled": true
   },
   "outputs": [],
   "source": [
    "# get rid of unneccessary columns\n",
    "dataset.drop([\"id\", \"date\", \"query\", \"user\"],\n",
    "          axis=1,\n",
    "          inplace=True)"
   ]
  },
  {
   "cell_type": "code",
   "execution_count": 4,
   "metadata": {
    "id": "g5lXd01VhEX8"
   },
   "outputs": [
    {
     "data": {
      "text/html": [
       "<div>\n",
       "<style scoped>\n",
       "    .dataframe tbody tr th:only-of-type {\n",
       "        vertical-align: middle;\n",
       "    }\n",
       "\n",
       "    .dataframe tbody tr th {\n",
       "        vertical-align: top;\n",
       "    }\n",
       "\n",
       "    .dataframe thead th {\n",
       "        text-align: right;\n",
       "    }\n",
       "</style>\n",
       "<table border=\"1\" class=\"dataframe\">\n",
       "  <thead>\n",
       "    <tr style=\"text-align: right;\">\n",
       "      <th></th>\n",
       "      <th>sentiment</th>\n",
       "      <th>tweet</th>\n",
       "    </tr>\n",
       "  </thead>\n",
       "  <tbody>\n",
       "    <tr>\n",
       "      <th>0</th>\n",
       "      <td>0</td>\n",
       "      <td>@switchfoot http://twitpic.com/2y1zl - Awww, t...</td>\n",
       "    </tr>\n",
       "    <tr>\n",
       "      <th>1</th>\n",
       "      <td>0</td>\n",
       "      <td>is upset that he can't update his Facebook by ...</td>\n",
       "    </tr>\n",
       "    <tr>\n",
       "      <th>2</th>\n",
       "      <td>0</td>\n",
       "      <td>@Kenichan I dived many times for the ball. Man...</td>\n",
       "    </tr>\n",
       "    <tr>\n",
       "      <th>3</th>\n",
       "      <td>0</td>\n",
       "      <td>my whole body feels itchy and like its on fire</td>\n",
       "    </tr>\n",
       "    <tr>\n",
       "      <th>4</th>\n",
       "      <td>0</td>\n",
       "      <td>@nationwideclass no, it's not behaving at all....</td>\n",
       "    </tr>\n",
       "  </tbody>\n",
       "</table>\n",
       "</div>"
      ],
      "text/plain": [
       "   sentiment                                              tweet\n",
       "0          0  @switchfoot http://twitpic.com/2y1zl - Awww, t...\n",
       "1          0  is upset that he can't update his Facebook by ...\n",
       "2          0  @Kenichan I dived many times for the ball. Man...\n",
       "3          0    my whole body feels itchy and like its on fire \n",
       "4          0  @nationwideclass no, it's not behaving at all...."
      ]
     },
     "execution_count": 4,
     "metadata": {},
     "output_type": "execute_result"
    }
   ],
   "source": [
    "dataset.head()"
   ]
  },
  {
   "cell_type": "code",
   "execution_count": 5,
   "metadata": {
    "id": "Zl_wyFAcikFR"
   },
   "outputs": [
    {
     "data": {
      "text/plain": [
       "array([0, 4, 2], dtype=int64)"
      ]
     },
     "execution_count": 5,
     "metadata": {},
     "output_type": "execute_result"
    }
   ],
   "source": [
    "dataset[\"sentiment\"].unique()"
   ]
  },
  {
   "cell_type": "code",
   "execution_count": 6,
   "metadata": {
    "id": "2E1typrLadWY"
   },
   "outputs": [
    {
     "data": {
      "text/html": [
       "<div>\n",
       "<style scoped>\n",
       "    .dataframe tbody tr th:only-of-type {\n",
       "        vertical-align: middle;\n",
       "    }\n",
       "\n",
       "    .dataframe tbody tr th {\n",
       "        vertical-align: top;\n",
       "    }\n",
       "\n",
       "    .dataframe thead th {\n",
       "        text-align: right;\n",
       "    }\n",
       "</style>\n",
       "<table border=\"1\" class=\"dataframe\">\n",
       "  <thead>\n",
       "    <tr style=\"text-align: right;\">\n",
       "      <th></th>\n",
       "      <th>sentiment</th>\n",
       "      <th>tweet</th>\n",
       "    </tr>\n",
       "  </thead>\n",
       "  <tbody>\n",
       "    <tr>\n",
       "      <th>1600009</th>\n",
       "      <td>2</td>\n",
       "      <td>Check this video out -- President Obama at the...</td>\n",
       "    </tr>\n",
       "    <tr>\n",
       "      <th>1600029</th>\n",
       "      <td>2</td>\n",
       "      <td>need suggestions for a good IR filter for my c...</td>\n",
       "    </tr>\n",
       "    <tr>\n",
       "      <th>1600030</th>\n",
       "      <td>2</td>\n",
       "      <td>@surfit: I just checked my google for my busin...</td>\n",
       "    </tr>\n",
       "    <tr>\n",
       "      <th>1600044</th>\n",
       "      <td>2</td>\n",
       "      <td>is in San Francisco at Bay to Breakers.</td>\n",
       "    </tr>\n",
       "    <tr>\n",
       "      <th>1600045</th>\n",
       "      <td>2</td>\n",
       "      <td>just landed at San Francisco</td>\n",
       "    </tr>\n",
       "    <tr>\n",
       "      <th>...</th>\n",
       "      <td>...</td>\n",
       "      <td>...</td>\n",
       "    </tr>\n",
       "    <tr>\n",
       "      <th>1600474</th>\n",
       "      <td>2</td>\n",
       "      <td>has a date with bobby flay and gut fieri from ...</td>\n",
       "    </tr>\n",
       "    <tr>\n",
       "      <th>1600482</th>\n",
       "      <td>2</td>\n",
       "      <td>How to Track Iran with Social Media: http://bi...</td>\n",
       "    </tr>\n",
       "    <tr>\n",
       "      <th>1600485</th>\n",
       "      <td>2</td>\n",
       "      <td>Twitter Stock buzz: $AAPL $ES_F $SPY $SPX $PAL...</td>\n",
       "    </tr>\n",
       "    <tr>\n",
       "      <th>1600487</th>\n",
       "      <td>2</td>\n",
       "      <td>@johncmayer is Bobby Flay joining you?</td>\n",
       "    </tr>\n",
       "    <tr>\n",
       "      <th>1600492</th>\n",
       "      <td>2</td>\n",
       "      <td>Ask Programming: LaTeX or InDesign?: submitted...</td>\n",
       "    </tr>\n",
       "  </tbody>\n",
       "</table>\n",
       "<p>139 rows × 2 columns</p>\n",
       "</div>"
      ],
      "text/plain": [
       "         sentiment                                              tweet\n",
       "1600009          2  Check this video out -- President Obama at the...\n",
       "1600029          2  need suggestions for a good IR filter for my c...\n",
       "1600030          2  @surfit: I just checked my google for my busin...\n",
       "1600044          2            is in San Francisco at Bay to Breakers.\n",
       "1600045          2                       just landed at San Francisco\n",
       "...            ...                                                ...\n",
       "1600474          2  has a date with bobby flay and gut fieri from ...\n",
       "1600482          2  How to Track Iran with Social Media: http://bi...\n",
       "1600485          2  Twitter Stock buzz: $AAPL $ES_F $SPY $SPX $PAL...\n",
       "1600487          2             @johncmayer is Bobby Flay joining you?\n",
       "1600492          2  Ask Programming: LaTeX or InDesign?: submitted...\n",
       "\n",
       "[139 rows x 2 columns]"
      ]
     },
     "execution_count": 6,
     "metadata": {},
     "output_type": "execute_result"
    }
   ],
   "source": [
    "# neutral sentiment - not needed\n",
    "dataset.loc[dataset[\"sentiment\"] == 2]"
   ]
  },
  {
   "cell_type": "code",
   "execution_count": 7,
   "metadata": {
    "id": "lPIEf-MZa88Y"
   },
   "outputs": [],
   "source": [
    "dataset.drop(dataset.loc[dataset[\"sentiment\"]==2].index, inplace=True)"
   ]
  },
  {
   "cell_type": "code",
   "execution_count": 8,
   "metadata": {
    "id": "OCdl6JcYio8v"
   },
   "outputs": [],
   "source": [
    "# change labels\n",
    "data_labels = dataset[\"sentiment\"].values\n",
    "data_labels[data_labels == 4] = 1"
   ]
  },
  {
   "cell_type": "code",
   "execution_count": 9,
   "metadata": {
    "id": "8i-gSHXCi0P1"
   },
   "outputs": [
    {
     "data": {
      "text/plain": [
       "array([0, 1], dtype=int64)"
      ]
     },
     "execution_count": 9,
     "metadata": {},
     "output_type": "execute_result"
    }
   ],
   "source": [
    "dataset[\"sentiment\"].unique()"
   ]
  },
  {
   "cell_type": "code",
   "execution_count": 10,
   "metadata": {
    "id": "L2yb3X2Jnir0"
   },
   "outputs": [
    {
     "data": {
      "image/png": "[encoded data removed]",
      "text/plain": [
       "<Figure size 504x504 with 1 Axes>"
      ]
     },
     "metadata": {},
     "output_type": "display_data"
    }
   ],
   "source": [
    "# check if the dataset is balanced\n",
    "labels = [\"positive\", \"negative\"]\n",
    "colors = [\"olivedrab\", \"silver\"]\n",
    "\n",
    "plt.figure(figsize=(7,7))\n",
    "plt.pie(dataset[\"sentiment\"].value_counts(), labels=labels, colors=colors, autopct=\"%1.1f%%\")\n",
    "plt.legend(title = \"Tweet sentiments:\")\n",
    "plt.title(\"Sentiment distribution\")\n",
    "plt.show()"
   ]
  },
  {
   "cell_type": "markdown",
   "metadata": {
    "id": "B5b8PhnMQutp"
   },
   "source": [
    "### DATA PREPROCESSING\n",
    "\n",
    "---\n",
    "\n"
   ]
  },
  {
   "cell_type": "markdown",
   "metadata": {
    "id": "43t_5kiSFQBz"
   },
   "source": [
    "**PUNCTUATION AND OTHER JUNK**\n",
    "\n",
    "---\n",
    "\n"
   ]
  },
  {
   "cell_type": "code",
   "execution_count": 11,
   "metadata": {
    "id": "DrdmASZyjbHD"
   },
   "outputs": [],
   "source": [
    "from bs4 import BeautifulSoup\n",
    "\n",
    "def clean_text(text):\n",
    "    # xml info\n",
    "    text = BeautifulSoup(text, \"lxml\").get_text()\n",
    "    # tags @name\n",
    "    text = re.sub(r\"@[A-Za-z0-9]+\", \" \", text)\n",
    "    # hyperlinks\n",
    "    text = re.sub(r\"https?://[A-Za-z0-9./]+\", \" \", text)\n",
    "    # punctuation, except '\n",
    "    text = re.sub(r\"[^a-zA-Z']\", \" \", text)\n",
    "    # double whitespaces\n",
    "    text = re.sub(r\" +\", \" \", text)\n",
    "    # lower-case\n",
    "    text = text.lower()\n",
    "  \n",
    "    return text"
   ]
  },
  {
   "cell_type": "code",
   "execution_count": null,
   "metadata": {
    "id": "kJ6TPSb2WXpL"
   },
   "outputs": [],
   "source": [
    "data_clean = [clean_text(tweet) for tweet in dataset[\"tweet\"]]"
   ]
  },
  {
   "cell_type": "code",
   "execution_count": 13,
   "metadata": {
    "id": "0rFAqfb4c6da"
   },
   "outputs": [
    {
     "data": {
      "text/plain": [
       "[\" awww that's a bummer you shoulda got david carr of third day to do it d\",\n",
       " \"is upset that he can't update his facebook by texting it and might cry as a result school today also blah \",\n",
       " ' i dived many times for the ball managed to save the rest go out of bounds',\n",
       " 'my whole body feels itchy and like its on fire ',\n",
       " \" no it's not behaving at all i'm mad why am i here because i can't see you all over there \",\n",
       " ' not the whole crew ',\n",
       " 'need a hug ',\n",
       " \" hey long time no see yes rains a bit only a bit lol i'm fine thanks how's you \",\n",
       " \" k nope they didn't have it \",\n",
       " ' que me muera ',\n",
       " \"spring break in plain city it's snowing \",\n",
       " 'i just re pierced my ears ',\n",
       " \" i couldn't bear to watch it and i thought the ua loss was embarrassing \",\n",
       " ' it it counts idk why i did either you never talk to me anymore ',\n",
       " \" i would've been the first but i didn't have a gun not really though zac snyder's just a doucheclown \"]"
      ]
     },
     "execution_count": 13,
     "metadata": {},
     "output_type": "execute_result"
    }
   ],
   "source": [
    "data_clean[:15]"
   ]
  },
  {
   "cell_type": "markdown",
   "metadata": {
    "id": "5i5euOzvFVEs"
   },
   "source": [
    "**LEMMATIZATION & STOP WORD REMOVAL**\n",
    "\n",
    "---\n",
    "\n"
   ]
  },
  {
   "cell_type": "markdown",
   "metadata": {
    "id": "UKCKsPxlw-q5"
   },
   "source": [
    "https://aclanthology.org/W18-5406.pdf\n",
    "\n",
    "\"In general, a simple tokenization works equally or better than more complex preprocessing techniques such as lemmatization or multiword grouping, except for domain-specific datasets (such as the medical dataset in our experiments) in which sole tokenization performs poorly\" [44] \n",
    "\n",
    "--- \n",
    "\n",
    "Based on this, decided not to lemmatize, only tokenize and remove stop words "
   ]
  },
  {
   "cell_type": "code",
   "execution_count": null,
   "metadata": {
    "id": "P9DkAEVtCwoV"
   },
   "outputs": [],
   "source": [
    "from nltk.corpus import stopwords\n",
    "\n",
    "nltk.download(\"stopwords\")\n",
    "\n",
    "all_stopwords = stopwords.words(\"english\")\n",
    "# negation is important, don't even know why it's considered a stop word\n",
    "all_stopwords.remove(\"not\")\n",
    "\n",
    "def remove_stopwords(text):\n",
    "    # all words converted into a list of strings\n",
    "    text = text.split()\n",
    "    # checked and removed\n",
    "    text = [word for word in text if not word in set(all_stopwords)]\n",
    "    # joined back a single string\n",
    "    text = \" \".join(text)\n",
    "    return text"
   ]
  },
  {
   "cell_type": "code",
   "execution_count": 15,
   "metadata": {
    "id": "kf7RLrZmI6k5"
   },
   "outputs": [],
   "source": [
    "corpus = [remove_stopwords(tweet) for tweet in data_clean]"
   ]
  },
  {
   "cell_type": "code",
   "execution_count": 16,
   "metadata": {
    "id": "wCc2IjZrJTQz"
   },
   "outputs": [
    {
     "data": {
      "text/plain": [
       "[\"awww that's bummer shoulda got david carr third day\",\n",
       " \"upset can't update facebook texting might cry result school today also blah\",\n",
       " 'dived many times ball managed save rest go bounds',\n",
       " 'whole body feels itchy like fire',\n",
       " \"not behaving i'm mad can't see\",\n",
       " 'not whole crew',\n",
       " 'need hug',\n",
       " \"hey long time see yes rains bit bit lol i'm fine thanks how's\",\n",
       " 'k nope',\n",
       " 'que muera',\n",
       " 'spring break plain city snowing',\n",
       " 'pierced ears',\n",
       " 'bear watch thought ua loss embarrassing',\n",
       " 'counts idk either never talk anymore',\n",
       " \"would've first gun not really though zac snyder's doucheclown\"]"
      ]
     },
     "execution_count": 16,
     "metadata": {},
     "output_type": "execute_result"
    }
   ],
   "source": [
    "corpus[:15]"
   ]
  },
  {
   "cell_type": "markdown",
   "metadata": {
    "id": "Jwmp_9FJFahE"
   },
   "source": [
    "**EMBEDDING**\n",
    "\n",
    "---\n",
    "\n"
   ]
  },
  {
   "cell_type": "code",
   "execution_count": 41,
   "metadata": {
    "id": "iqbql32koooA"
   },
   "outputs": [],
   "source": [
    "# TENSORFLOW TOKENIZER -- to be used with CNN\n",
    "\n",
    "from keras.preprocessing.text import Tokenizer\n",
    "\n",
    "# consider using **args instead of manually cleaning data\n",
    "tokenizer = Tokenizer()\n",
    "tokenizer.fit_on_texts(corpus)"
   ]
  },
  {
   "cell_type": "code",
   "execution_count": 42,
   "metadata": {
    "id": "x44nBGg3seqM"
   },
   "outputs": [],
   "source": [
    "embedded_data = tokenizer.texts_to_sequences(corpus)"
   ]
  },
  {
   "cell_type": "code",
   "execution_count": 17,
   "metadata": {
    "id": "neoyOh7a7Twj"
   },
   "outputs": [],
   "source": [
    "# BAG OF WORDS -- to be used with Naive Bayes\n",
    "\n",
    "from sklearn.feature_extraction.text import CountVectorizer\n",
    "\n",
    "# consider using **args instead of manually cleaning data\n",
    "vectorizer = CountVectorizer(max_features=1000)\n",
    "embedded_data = vectorizer.fit_transform(corpus)"
   ]
  },
  {
   "cell_type": "code",
   "execution_count": 18,
   "metadata": {
    "id": "ICvMAWPgFfWc"
   },
   "outputs": [],
   "source": [
    "embedded_data = embedded_data.toarray()"
   ]
  },
  {
   "cell_type": "code",
   "execution_count": 43,
   "metadata": {
    "id": "zq1HNMASEwnN"
   },
   "outputs": [
    {
     "data": {
      "text/plain": [
       "[[340, 66, 1055, 3342, 12, 740, 9547, 1749, 4],\n",
       " [664, 22, 434, 421, 1882, 192, 416, 2190, 69, 8, 170, 1000],\n",
       " [54943, 210, 245, 1107, 1543, 783, 360, 7, 23262],\n",
       " [319, 701, 372, 2746, 6, 1017],\n",
       " [2, 10117, 1, 482, 22, 21]]"
      ]
     },
     "execution_count": 43,
     "metadata": {},
     "output_type": "execute_result"
    }
   ],
   "source": [
    "embedded_data[:5]"
   ]
  },
  {
   "cell_type": "markdown",
   "metadata": {
    "id": "CFu7eiopFc3z"
   },
   "source": [
    "**PADDING**\n",
    "\n",
    "---\n",
    "\n"
   ]
  },
  {
   "cell_type": "code",
   "execution_count": 44,
   "metadata": {
    "id": "8H0nTAcmnwPX"
   },
   "outputs": [],
   "source": [
    "# pad to the longest tweet in the dataset\n",
    "from tensorflow.keras.preprocessing.sequence import pad_sequences\n",
    "\n",
    "max_length = max([len(tweet) for tweet in embedded_data])\n",
    "\n",
    "padded_data = pad_sequences(embedded_data,\n",
    "                            value=0,\n",
    "                            padding=\"post\",\n",
    "                            maxlen=max_length)"
   ]
  },
  {
   "cell_type": "code",
   "execution_count": 45,
   "metadata": {
    "id": "hijO2OHIDWzz"
   },
   "outputs": [
    {
     "data": {
      "text/plain": [
       "array([[  340,    66,  1055,  3342,    12,   740,  9547,  1749,     4,\n",
       "            0,     0,     0,     0,     0,     0,     0,     0,     0,\n",
       "            0,     0,     0,     0,     0,     0,     0,     0,     0,\n",
       "            0,     0,     0,     0,     0,     0,     0,     0,     0,\n",
       "            0],\n",
       "       [  664,    22,   434,   421,  1882,   192,   416,  2190,    69,\n",
       "            8,   170,  1000,     0,     0,     0,     0,     0,     0,\n",
       "            0,     0,     0,     0,     0,     0,     0,     0,     0,\n",
       "            0,     0,     0,     0,     0,     0,     0,     0,     0,\n",
       "            0],\n",
       "       [54943,   210,   245,  1107,  1543,   783,   360,     7, 23262,\n",
       "            0,     0,     0,     0,     0,     0,     0,     0,     0,\n",
       "            0,     0,     0,     0,     0,     0,     0,     0,     0,\n",
       "            0,     0,     0,     0,     0,     0,     0,     0,     0,\n",
       "            0],\n",
       "       [  319,   701,   372,  2746,     6,  1017,     0,     0,     0,\n",
       "            0,     0,     0,     0,     0,     0,     0,     0,     0,\n",
       "            0,     0,     0,     0,     0,     0,     0,     0,     0,\n",
       "            0,     0,     0,     0,     0,     0,     0,     0,     0,\n",
       "            0],\n",
       "       [    2, 10117,     1,   482,    22,    21,     0,     0,     0,\n",
       "            0,     0,     0,     0,     0,     0,     0,     0,     0,\n",
       "            0,     0,     0,     0,     0,     0,     0,     0,     0,\n",
       "            0,     0,     0,     0,     0,     0,     0,     0,     0,\n",
       "            0]])"
      ]
     },
     "execution_count": 45,
     "metadata": {},
     "output_type": "execute_result"
    }
   ],
   "source": [
    "padded_data[:5]"
   ]
  },
  {
   "cell_type": "markdown",
   "metadata": {
    "id": "5uX1jZHpQ3AJ"
   },
   "source": [
    "### TRAIN/TEST/VALIDATION SPLIT\n",
    "\n",
    "---\n",
    "\n"
   ]
  },
  {
   "cell_type": "code",
   "execution_count": 46,
   "metadata": {
    "id": "yG31fCQh3i7m"
   },
   "outputs": [],
   "source": [
    "X = padded_data\n",
    "\n",
    "y = dataset[\"sentiment\"].to_numpy()"
   ]
  },
  {
   "cell_type": "code",
   "execution_count": 47,
   "metadata": {
    "id": "XZntmwMW3TTe"
   },
   "outputs": [
    {
     "data": {
      "text/plain": [
       "(1600358, 37)"
      ]
     },
     "execution_count": 47,
     "metadata": {},
     "output_type": "execute_result"
    }
   ],
   "source": [
    "# check if shapes match\n",
    "X.shape"
   ]
  },
  {
   "cell_type": "code",
   "execution_count": 48,
   "metadata": {
    "id": "4h1hzUIo3Uct"
   },
   "outputs": [
    {
     "data": {
      "text/plain": [
       "(1600358,)"
      ]
     },
     "execution_count": 48,
     "metadata": {},
     "output_type": "execute_result"
    }
   ],
   "source": [
    "y.shape"
   ]
  },
  {
   "cell_type": "code",
   "execution_count": 49,
   "metadata": {
    "id": "ZCUuEvFT3bkG"
   },
   "outputs": [],
   "source": [
    "from sklearn.model_selection import train_test_split\n",
    "\n",
    "X_train, X_remaining, y_train, y_remaining = train_test_split(X, y, test_size = 0.2, random_state = 5)"
   ]
  },
  {
   "cell_type": "code",
   "execution_count": 50,
   "metadata": {
    "id": "N409z9MapD9q"
   },
   "outputs": [],
   "source": [
    "# second split for the validation set\n",
    "X_valid, X_test, y_valid, y_test = train_test_split(X_remaining, y_remaining, test_size = 0.5, random_state = 5)"
   ]
  },
  {
   "cell_type": "code",
   "execution_count": 51,
   "metadata": {
    "id": "fSTkWP2RGH5P"
   },
   "outputs": [
    {
     "data": {
      "text/plain": [
       "array([[ 372,   20,  544,    8,    0,    0,    0,    0,    0,    0,    0,\n",
       "           0,    0,    0,    0,    0,    0,    0,    0,    0,    0,    0,\n",
       "           0,    0,    0,    0,    0,    0,    0,    0,    0,    0,    0,\n",
       "           0,    0,    0,    0],\n",
       "       [ 605,    0,    0,    0,    0,    0,    0,    0,    0,    0,    0,\n",
       "           0,    0,    0,    0,    0,    0,    0,    0,    0,    0,    0,\n",
       "           0,    0,    0,    0,    0,    0,    0,    0,    0,    0,    0,\n",
       "           0,    0,    0,    0],\n",
       "       [1683,  152,   50, 1061, 2435,  412,   48,    0,    0,    0,    0,\n",
       "           0,    0,    0,    0,    0,    0,    0,    0,    0,    0,    0,\n",
       "           0,    0,    0,    0,    0,    0,    0,    0,    0,    0,    0,\n",
       "           0,    0,    0,    0],\n",
       "       [  29,    2,  116,   69,  167,   38,    0,    0,    0,    0,    0,\n",
       "           0,    0,    0,    0,    0,    0,    0,    0,    0,    0,    0,\n",
       "           0,    0,    0,    0,    0,    0,    0,    0,    0,    0,    0,\n",
       "           0,    0,    0,    0],\n",
       "       [  11,    5, 6509,    0,    0,    0,    0,    0,    0,    0,    0,\n",
       "           0,    0,    0,    0,    0,    0,    0,    0,    0,    0,    0,\n",
       "           0,    0,    0,    0,    0,    0,    0,    0,    0,    0,    0,\n",
       "           0,    0,    0,    0]])"
      ]
     },
     "execution_count": 51,
     "metadata": {},
     "output_type": "execute_result"
    }
   ],
   "source": [
    "X_train[:5]"
   ]
  },
  {
   "cell_type": "code",
   "execution_count": 52,
   "metadata": {
    "id": "kRcAzhrjGbju"
   },
   "outputs": [
    {
     "data": {
      "text/plain": [
       "array([0, 1, 0, 0, 1], dtype=int64)"
      ]
     },
     "execution_count": 52,
     "metadata": {},
     "output_type": "execute_result"
    }
   ],
   "source": [
    "y_train[:5]"
   ]
  },
  {
   "cell_type": "code",
   "execution_count": 53,
   "metadata": {
    "id": "cE-4TyTwGLnH"
   },
   "outputs": [
    {
     "data": {
      "text/plain": [
       "array([[   782,   1933,      6,    206,     14,   4312,  14931,   1083,\n",
       "             2,     47,      0,      0,      0,      0,      0,      0,\n",
       "             0,      0,      0,      0,      0,      0,      0,      0,\n",
       "             0,      0,      0,      0,      0,      0,      0,      0,\n",
       "             0,      0,      0,      0,      0],\n",
       "       [   348, 100764,    203,      7,      9,    460,  22651,      0,\n",
       "             0,      0,      0,      0,      0,      0,      0,      0,\n",
       "             0,      0,      0,      0,      0,      0,      0,      0,\n",
       "             0,      0,      0,      0,      0,      0,      0,      0,\n",
       "             0,      0,      0,      0,      0],\n",
       "       [    31,    455,     22,      7,     46,   1725,     11,    101,\n",
       "            65,     58,   2602,     24,      0,      0,      0,      0,\n",
       "             0,      0,      0,      0,      0,      0,      0,      0,\n",
       "             0,      0,      0,      0,      0,      0,      0,      0,\n",
       "             0,      0,      0,      0,      0],\n",
       "       [131437,    171,     79,     21,   3253,    726,     45,    324,\n",
       "          3253,  16592,      0,      0,      0,      0,      0,      0,\n",
       "             0,      0,      0,      0,      0,      0,      0,      0,\n",
       "             0,      0,      0,      0,      0,      0,      0,      0,\n",
       "             0,      0,      0,      0,      0],\n",
       "       [   623,    463,     13,   2017,     12,    247,    262,      0,\n",
       "             0,      0,      0,      0,      0,      0,      0,      0,\n",
       "             0,      0,      0,      0,      0,      0,      0,      0,\n",
       "             0,      0,      0,      0,      0,      0,      0,      0,\n",
       "             0,      0,      0,      0,      0]])"
      ]
     },
     "execution_count": 53,
     "metadata": {},
     "output_type": "execute_result"
    }
   ],
   "source": [
    "X_valid[:5]"
   ]
  },
  {
   "cell_type": "code",
   "execution_count": 54,
   "metadata": {
    "id": "K_KNnXBPGetE"
   },
   "outputs": [
    {
     "data": {
      "text/plain": [
       "array([1, 0, 1, 0, 1], dtype=int64)"
      ]
     },
     "execution_count": 54,
     "metadata": {},
     "output_type": "execute_result"
    }
   ],
   "source": [
    "y_valid[:5]"
   ]
  },
  {
   "cell_type": "code",
   "execution_count": 55,
   "metadata": {
    "id": "u4vh-6KSGNIB"
   },
   "outputs": [
    {
     "data": {
      "text/plain": [
       "array([[14319,     0,     0,     0,     0,     0,     0,     0,     0,\n",
       "            0,     0,     0,     0,     0,     0,     0,     0,     0,\n",
       "            0,     0,     0,     0,     0,     0,     0,     0,     0,\n",
       "            0,     0,     0,     0,     0,     0,     0,     0,     0,\n",
       "            0],\n",
       "       [   30,    15,   493,    15,     9,    38,    20,     5,   492,\n",
       "           83,  4874,   447,     0,     0,     0,     0,     0,     0,\n",
       "            0,     0,     0,     0,     0,     0,     0,     0,     0,\n",
       "            0,     0,     0,     0,     0,     0,     0,     0,     0,\n",
       "            0],\n",
       "       [  940,   873,   126,  8338,   211,   435,   597,    29,   170,\n",
       "         2209,   349,    40,     0,     0,     0,     0,     0,     0,\n",
       "            0,     0,     0,     0,     0,     0,     0,     0,     0,\n",
       "            0,     0,     0,     0,     0,     0,     0,     0,     0,\n",
       "            0],\n",
       "       [  324,    56,     2,    54,  1533, 22383,  1519,  1607,  1381,\n",
       "         2014,  1614,   115,   160, 16212,     0,     0,     0,     0,\n",
       "            0,     0,     0,     0,     0,     0,     0,     0,     0,\n",
       "            0,     0,     0,     0,     0,     0,     0,     0,     0,\n",
       "            0],\n",
       "       [    8,  1192, 35167,  1620,   847,  2551,     0,     0,     0,\n",
       "            0,     0,     0,     0,     0,     0,     0,     0,     0,\n",
       "            0,     0,     0,     0,     0,     0,     0,     0,     0,\n",
       "            0,     0,     0,     0,     0,     0,     0,     0,     0,\n",
       "            0]])"
      ]
     },
     "execution_count": 55,
     "metadata": {},
     "output_type": "execute_result"
    }
   ],
   "source": [
    "X_test[:5]"
   ]
  },
  {
   "cell_type": "code",
   "execution_count": 56,
   "metadata": {
    "id": "t1OP-RyxGjhJ"
   },
   "outputs": [
    {
     "data": {
      "text/plain": [
       "array([0, 0, 0, 0, 0], dtype=int64)"
      ]
     },
     "execution_count": 56,
     "metadata": {},
     "output_type": "execute_result"
    }
   ],
   "source": [
    "y_test[:5]"
   ]
  },
  {
   "cell_type": "markdown",
   "metadata": {
    "id": "ceY9X_kbCwLt"
   },
   "source": [
    "### NEW DATA\n",
    "\n",
    "---\n",
    "\n"
   ]
  },
  {
   "cell_type": "code",
   "execution_count": 57,
   "metadata": {
    "id": "EZSuA-5QCMtp"
   },
   "outputs": [],
   "source": [
    "# TENSORFLOW TOKENIZER -- to be used with CNN\n",
    "\n",
    "def new_data_cleanup(data):\n",
    "    data = clean_text(data)\n",
    "    data = tokenizer.texts_to_sequences(data)\n",
    "    data = pad_sequences(data,\n",
    "                        value=0,\n",
    "                        padding=\"post\",\n",
    "                        maxlen=max_length)\n",
    "    return data"
   ]
  },
  {
   "cell_type": "code",
   "execution_count": 33,
   "metadata": {
    "id": "52R4Qv3j-Y65"
   },
   "outputs": [],
   "source": [
    "# BAG OF WORDS -- to be used with Naive Bayes\n",
    "\n",
    "def new_data_cleanup(data):\n",
    "    data = vectorizer.transform([data])\n",
    "    data = data.toarray()\n",
    "    data = pad_sequences(data,\n",
    "                            value=0,\n",
    "                            padding=\"post\",\n",
    "                            maxlen=max_length)\n",
    "    return data"
   ]
  },
  {
   "cell_type": "code",
   "execution_count": 58,
   "metadata": {
    "id": "QTz-DUHfC7kf"
   },
   "outputs": [],
   "source": [
    "# for final predictions\n",
    "new_tweet = \"I think @Mary is the hottest girl around!\"\n",
    "new_tweet = new_data_cleanup(new_tweet)"
   ]
  },
  {
   "cell_type": "markdown",
   "metadata": {
    "id": "GjndbhOQSHwP"
   },
   "source": [
    "### SIMPLE NAIVE BAYES"
   ]
  },
  {
   "cell_type": "markdown",
   "metadata": {
    "id": "Kam4ZR5LScp-"
   },
   "source": [
    "**MODEL CONFIGURATION**\n",
    "\n",
    "---\n",
    "\n"
   ]
  },
  {
   "cell_type": "code",
   "execution_count": 35,
   "metadata": {
    "id": "1UuPN4HIAIc3"
   },
   "outputs": [],
   "source": [
    "from sklearn.naive_bayes import MultinomialNB\n",
    "\n",
    "bayes_classifier = MultinomialNB()"
   ]
  },
  {
   "cell_type": "markdown",
   "metadata": {
    "id": "eF5D8N0fSfRW"
   },
   "source": [
    "**MODEL TRAINING**\n",
    "\n",
    "---\n",
    "\n"
   ]
  },
  {
   "cell_type": "code",
   "execution_count": 36,
   "metadata": {
    "id": "4n-2LUx7AJwM"
   },
   "outputs": [
    {
     "data": {
      "text/plain": [
       "MultinomialNB()"
      ]
     },
     "execution_count": 36,
     "metadata": {},
     "output_type": "execute_result"
    }
   ],
   "source": [
    "bayes_classifier.fit(X_train, y_train)"
   ]
  },
  {
   "cell_type": "markdown",
   "metadata": {
    "id": "uPrgRPQTShm3"
   },
   "source": [
    "**MODEL EVALUATION**\n",
    "\n",
    "---\n",
    "\n"
   ]
  },
  {
   "cell_type": "code",
   "execution_count": 37,
   "metadata": {
    "id": "i5QWtNLcAKFo"
   },
   "outputs": [],
   "source": [
    "y_pred = bayes_classifier.predict(X_test)"
   ]
  },
  {
   "cell_type": "code",
   "execution_count": 38,
   "metadata": {
    "id": "5TkqXLry4tKH"
   },
   "outputs": [
    {
     "name": "stdout",
     "output_type": "stream",
     "text": [
      "              precision    recall  f1-score   support\n",
      "\n",
      "           0       0.74      0.73      0.74     80083\n",
      "           1       0.73      0.75      0.74     79953\n",
      "\n",
      "    accuracy                           0.74    160036\n",
      "   macro avg       0.74      0.74      0.74    160036\n",
      "weighted avg       0.74      0.74      0.74    160036\n",
      "\n"
     ]
    }
   ],
   "source": [
    "from sklearn.metrics import classification_report\n",
    "\n",
    "print(classification_report(y_test, y_pred))"
   ]
  },
  {
   "cell_type": "markdown",
   "metadata": {
    "id": "Ppt2b8CiSjWu"
   },
   "source": [
    "**NEW PREDICTIONS**\n",
    "\n",
    "---\n",
    "\n"
   ]
  },
  {
   "cell_type": "code",
   "execution_count": 39,
   "metadata": {
    "id": "5Mg5_K79AKoG"
   },
   "outputs": [],
   "source": [
    "output = bayes_classifier.predict(new_tweet)\n",
    "\n",
    "def prediction(output):\n",
    "   if output[0] == 1:\n",
    "     return \"positive\"\n",
    "   else:\n",
    "     return \"negative\""
   ]
  },
  {
   "cell_type": "code",
   "execution_count": 40,
   "metadata": {
    "id": "iDqxZe7CkFnK"
   },
   "outputs": [
    {
     "data": {
      "text/plain": [
       "'positive'"
      ]
     },
     "execution_count": 40,
     "metadata": {},
     "output_type": "execute_result"
    }
   ],
   "source": [
    "prediction(output)"
   ]
  },
  {
   "cell_type": "markdown",
   "metadata": {
    "id": "p6wEhMJIRPxw"
   },
   "source": [
    "### CONVOLUTIONAL NEURAL NETWORK"
   ]
  },
  {
   "cell_type": "markdown",
   "metadata": {
    "id": "KsfmMGbsQ5JZ"
   },
   "source": [
    "**MODEL CONFIGURATION**\n",
    "\n",
    "---\n",
    "\n"
   ]
  },
  {
   "cell_type": "code",
   "execution_count": 59,
   "metadata": {
    "id": "SQb4UkBp26SJ"
   },
   "outputs": [],
   "source": [
    "from keras.models import Sequential\n",
    "from keras.layers import Input, Embedding, Conv1D, MaxPool1D, GlobalMaxPool1D, Dense, Dropout, BatchNormalization"
   ]
  },
  {
   "cell_type": "code",
   "execution_count": 60,
   "metadata": {
    "id": "juXVB3fS26SK"
   },
   "outputs": [],
   "source": [
    "INPUT_SHAPE = X_train.shape[1]\n",
    "VOCABULARY_SIZE = len(tokenizer.word_index)\n",
    "EMBEDDING_DIMENSION = 32\n",
    "FILTERS = 16\n",
    "DROPOUT_RATE = 0.3\n",
    "FFN_UNITS = 32"
   ]
  },
  {
   "cell_type": "code",
   "execution_count": 61,
   "metadata": {
    "id": "nqeDucQn26SK"
   },
   "outputs": [],
   "source": [
    "cnn = Sequential()\n",
    "\n",
    "cnn.add(Input(INPUT_SHAPE,))\n",
    "# +1 here resolves the indexing problem during training\n",
    "cnn.add(Embedding(VOCABULARY_SIZE+1, EMBEDDING_DIMENSION))\n",
    "\n",
    "cnn.add(Conv1D(filters=FILTERS, kernel_size=2, activation=\"relu\"))\n",
    "cnn.add(BatchNormalization())\n",
    "cnn.add(MaxPool1D())\n",
    "cnn.add(Dropout(DROPOUT_RATE))\n",
    "\n",
    "cnn.add(Conv1D(filters=FILTERS, kernel_size=4, activation=\"relu\"))\n",
    "cnn.add(BatchNormalization())\n",
    "cnn.add(GlobalMaxPool1D())\n",
    "cnn.add(Dropout(DROPOUT_RATE*2))\n",
    "\n",
    "cnn.add(Dense(units=FFN_UNITS, activation=\"relu\"))\n",
    "cnn.add(BatchNormalization())\n",
    "cnn.add(Dropout(DROPOUT_RATE*3))\n",
    "\n",
    "# if number of classes == 2, units=1, activation=\"sigmoid\", else number of classes == units, activation=\"softmax\"\n",
    "cnn.add(Dense(units=1, activation=\"sigmoid\"))"
   ]
  },
  {
   "cell_type": "code",
   "execution_count": 62,
   "metadata": {
    "id": "j4fZw47B8Z3R"
   },
   "outputs": [],
   "source": [
    "# if number of classes == 2, loss=\"binary_crossentropy\", else \"sparse_categorical_crossentropy\", metrics=\"sparse_categorical_accuracy\", for example\n",
    "cnn.compile(optimizer=\"adam\", loss=\"binary_crossentropy\", metrics=[\"accuracy\"])"
   ]
  },
  {
   "cell_type": "code",
   "execution_count": 63,
   "metadata": {
    "id": "BzaByCkK8aJx"
   },
   "outputs": [
    {
     "name": "stdout",
     "output_type": "stream",
     "text": [
      "Model: \"sequential\"\n",
      "_________________________________________________________________\n",
      " Layer (type)                Output Shape              Param #   \n",
      "=================================================================\n",
      " embedding (Embedding)       (None, 37, 32)            9444288   \n",
      "                                                                 \n",
      " conv1d (Conv1D)             (None, 36, 16)            1040      \n",
      "                                                                 \n",
      " batch_normalization (BatchN  (None, 36, 16)           64        \n",
      " ormalization)                                                   \n",
      "                                                                 \n",
      " max_pooling1d (MaxPooling1D  (None, 18, 16)           0         \n",
      " )                                                               \n",
      "                                                                 \n",
      " dropout (Dropout)           (None, 18, 16)            0         \n",
      "                                                                 \n",
      " conv1d_1 (Conv1D)           (None, 15, 16)            1040      \n",
      "                                                                 \n",
      " batch_normalization_1 (Batc  (None, 15, 16)           64        \n",
      " hNormalization)                                                 \n",
      "                                                                 \n",
      " global_max_pooling1d (Globa  (None, 16)               0         \n",
      " lMaxPooling1D)                                                  \n",
      "                                                                 \n",
      " dropout_1 (Dropout)         (None, 16)                0         \n",
      "                                                                 \n",
      " dense (Dense)               (None, 32)                544       \n",
      "                                                                 \n",
      " batch_normalization_2 (Batc  (None, 32)               128       \n",
      " hNormalization)                                                 \n",
      "                                                                 \n",
      " dropout_2 (Dropout)         (None, 32)                0         \n",
      "                                                                 \n",
      " dense_1 (Dense)             (None, 1)                 33        \n",
      "                                                                 \n",
      "=================================================================\n",
      "Total params: 9,447,201\n",
      "Trainable params: 9,447,073\n",
      "Non-trainable params: 128\n",
      "_________________________________________________________________\n"
     ]
    }
   ],
   "source": [
    "cnn.summary()"
   ]
  },
  {
   "cell_type": "markdown",
   "metadata": {
    "id": "YR78AqTJQ9fp"
   },
   "source": [
    "**MODEL TRAINING**\n",
    "\n",
    "---\n",
    "\n"
   ]
  },
  {
   "cell_type": "code",
   "execution_count": 64,
   "metadata": {
    "id": "Sp4rrPLsqNlY"
   },
   "outputs": [],
   "source": [
    "BATCH_SIZE = 100\n",
    "EPOCHS = 10"
   ]
  },
  {
   "cell_type": "code",
   "execution_count": 65,
   "metadata": {
    "id": "IiMzBX1GkFnN"
   },
   "outputs": [],
   "source": [
    "# stop after 2 epochs of no improvement of loss\n",
    "stop = tf.keras.callbacks.EarlyStopping(monitor=\"val_loss\", patience = 2)"
   ]
  },
  {
   "cell_type": "code",
   "execution_count": 66,
   "metadata": {
    "id": "YPfcwyxQ81MJ",
    "scrolled": true
   },
   "outputs": [
    {
     "name": "stdout",
     "output_type": "stream",
     "text": [
      "Epoch 1/10\n",
      "12803/12803 [==============================] - 1253s 98ms/step - loss: 0.6057 - accuracy: 0.6926 - val_loss: 0.4787 - val_accuracy: 0.7811\n",
      "Epoch 2/10\n",
      "12803/12803 [==============================] - 1288s 101ms/step - loss: 0.5210 - accuracy: 0.7667 - val_loss: 0.4630 - val_accuracy: 0.7884\n",
      "Epoch 3/10\n",
      "12803/12803 [==============================] - 1231s 96ms/step - loss: 0.5028 - accuracy: 0.7800 - val_loss: 0.4587 - val_accuracy: 0.7902\n",
      "Epoch 4/10\n",
      "12803/12803 [==============================] - 1239s 97ms/step - loss: 0.4906 - accuracy: 0.7889 - val_loss: 0.4561 - val_accuracy: 0.7892\n",
      "Epoch 5/10\n",
      "12803/12803 [==============================] - 1287s 101ms/step - loss: 0.4801 - accuracy: 0.7960 - val_loss: 0.4580 - val_accuracy: 0.7870\n",
      "Epoch 6/10\n",
      "12803/12803 [==============================] - 1291s 101ms/step - loss: 0.4720 - accuracy: 0.8016 - val_loss: 0.4581 - val_accuracy: 0.7879\n"
     ]
    },
    {
     "data": {
      "text/plain": [
       "<keras.callbacks.History at 0x214eb35d160>"
      ]
     },
     "execution_count": 66,
     "metadata": {},
     "output_type": "execute_result"
    }
   ],
   "source": [
    "cnn.fit(X_train, y_train, epochs=EPOCHS, validation_data=(X_valid, y_valid), batch_size=BATCH_SIZE, callbacks=[stop])"
   ]
  },
  {
   "cell_type": "markdown",
   "metadata": {
    "id": "ImUqeNmvQ-y_"
   },
   "source": [
    "**MODEL EVALUATION**\n",
    "\n",
    "---\n",
    "\n"
   ]
  },
  {
   "cell_type": "code",
   "execution_count": 68,
   "metadata": {
    "id": "n6ODifVfAT8B"
   },
   "outputs": [
    {
     "data": {
      "image/png": "[encoded data removed]",
      "text/plain": [
       "<Figure size 432x288 with 1 Axes>"
      ]
     },
     "metadata": {
      "needs_background": "light"
     },
     "output_type": "display_data"
    }
   ],
   "source": [
    "plt.plot(cnn.history.history[\"loss\"], label=\"Loss\", color=colors[0] )\n",
    "plt.plot(cnn.history.history[\"val_loss\"], label=\"Validation Loss\", color=colors[1])\n",
    "plt.title(\"Loss metrics\")\n",
    "plt.legend()\n",
    "plt.show()"
   ]
  },
  {
   "cell_type": "code",
   "execution_count": 69,
   "metadata": {
    "id": "WXFz3FEbASjn"
   },
   "outputs": [
    {
     "data": {
      "image/png": "[encoded data removed]",
      "text/plain": [
       "<Figure size 432x288 with 1 Axes>"
      ]
     },
     "metadata": {
      "needs_background": "light"
     },
     "output_type": "display_data"
    }
   ],
   "source": [
    "plt.plot(cnn.history.history[\"accuracy\"], label=\"Accuracy\", color=colors[0])\n",
    "plt.plot(cnn.history.history[\"val_accuracy\"], label=\"Validation accuracy\", color=colors[1])\n",
    "plt.title(\"Accuracy metrics\")\n",
    "plt.legend()\n",
    "plt.show()"
   ]
  },
  {
   "cell_type": "code",
   "execution_count": 70,
   "metadata": {},
   "outputs": [
    {
     "name": "stdout",
     "output_type": "stream",
     "text": [
      "5002/5002 [==============================] - 3s 615us/step - loss: 0.4601 - accuracy: 0.7874\n"
     ]
    },
    {
     "data": {
      "text/plain": [
       "[0.46011799573898315, 0.7873603701591492]"
      ]
     },
     "execution_count": 70,
     "metadata": {},
     "output_type": "execute_result"
    }
   ],
   "source": [
    "cnn.evaluate(X_test, y_test, verbose=1)"
   ]
  },
  {
   "cell_type": "code",
   "execution_count": null,
   "metadata": {},
   "outputs": [],
   "source": [
    "cnn.save('saved_model/twitter_model')"
   ]
  },
  {
   "cell_type": "code",
   "execution_count": null,
   "metadata": {},
   "outputs": [],
   "source": [
    "#cnn = tf.keras.models.load_model('saved_model/twitter_model')"
   ]
  },
  {
   "cell_type": "markdown",
   "metadata": {
    "id": "rMS0NzQJRHIH"
   },
   "source": [
    "**NEW PREDICTIONS**\n",
    "\n",
    "---\n",
    "\n"
   ]
  },
  {
   "cell_type": "code",
   "execution_count": 73,
   "metadata": {
    "id": "r30wwtoM9YCJ"
   },
   "outputs": [],
   "source": [
    "output = cnn.predict(new_tweet)"
   ]
  },
  {
   "cell_type": "code",
   "execution_count": 74,
   "metadata": {
    "id": "RLuXAsP49M-w"
   },
   "outputs": [],
   "source": [
    "def prediction(output):\n",
    "   if output[0][0] > 0.5:\n",
    "     return \"positive\"\n",
    "   else:\n",
    "     return \"negative\""
   ]
  },
  {
   "cell_type": "code",
   "execution_count": 75,
   "metadata": {
    "id": "dHvyLougD8Dc"
   },
   "outputs": [
    {
     "data": {
      "text/plain": [
       "'positive'"
      ]
     },
     "execution_count": 75,
     "metadata": {},
     "output_type": "execute_result"
    }
   ],
   "source": [
    "prediction(output)"
   ]
  }
 ],
 "metadata": {
  "colab": {
   "collapsed_sections": [],
   "name": "sentiment_analysis.ipynb",
   "provenance": []
  },
  "kernelspec": {
   "display_name": "Python 3",
   "language": "python",
   "name": "python3"
  },
  "language_info": {
   "codemirror_mode": {
    "name": "ipython",
    "version": 3
   },
   "file_extension": ".py",
   "mimetype": "text/x-python",
   "name": "python",
   "nbconvert_exporter": "python",
   "pygments_lexer": "ipython3",
   "version": "3.8.8"
  }
 },
 "nbformat": 4,
 "nbformat_minor": 1
}
