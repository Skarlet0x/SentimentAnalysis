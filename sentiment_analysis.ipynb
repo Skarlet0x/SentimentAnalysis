{
  "nbformat": 4,
  "nbformat_minor": 0,
  "metadata": {
    "colab": {
      "name": "sentiment_analysis.ipynb",
      "provenance": [],
      "collapsed_sections": [
        "p6wEhMJIRPxw",
        "cb93z5GTR19Y"
      ],
      "authorship_tag": "ABX9TyM7mnPa3PignKx3CtikqfVw"
    },
    "kernelspec": {
      "name": "python3",
      "display_name": "Python 3"
    },
    "language_info": {
      "name": "python"
    }
  },
  "cells": [
    {
      "cell_type": "markdown",
      "source": [
        "###IMPORTS\n",
        "\n",
        "---\n",
        "\n",
        "\n",
        "\n"
      ],
      "metadata": {
        "id": "8gEVQHSCP4sC"
      }
    },
    {
      "cell_type": "code",
      "execution_count": 43,
      "metadata": {
        "id": "Vd8Xv-bbP2l3"
      },
      "outputs": [],
      "source": [
        "import numpy as np\n",
        "import pandas as pd\n",
        "import matplotlib.pyplot as plt\n",
        "\n",
        "import re\n",
        "import nltk\n",
        "from nltk.corpus import stopwords\n",
        "from bs4 import BeautifulSoup\n",
        "\n",
        "from sklearn.model_selection import train_test_split\n",
        "from sklearn.metrics import confusion_matrix, accuracy_score\n",
        "\n",
        "import tensorflow as tf\n",
        "from tensorflow.keras import layers\n",
        "import tensorflow_datasets as tfds"
      ]
    },
    {
      "cell_type": "markdown",
      "source": [
        "###DATASET\n",
        "\n",
        "---\n",
        "\n"
      ],
      "metadata": {
        "id": "7O0EOPeUQd4R"
      }
    },
    {
      "cell_type": "code",
      "source": [
        "columns = [\"sentiment\", \"id\", \"date\", \"query\", \"user\", \"tweet\"]\n",
        "\n",
        "dataset = pd.read_csv('data.csv', \n",
        "                      header=None,\n",
        "                      names=columns,\n",
        "                      engine=\"python\",\n",
        "                      encoding=\"latin1\",\n",
        "                      error_bad_lines=False)"
      ],
      "metadata": {
        "id": "5PJMY-nVXPwZ",
        "colab": {
          "base_uri": "https://localhost:8080/"
        },
        "outputId": "8515498e-b9e1-488b-b533-699e762ee5dc"
      },
      "execution_count": 2,
      "outputs": [
        {
          "output_type": "stream",
          "name": "stderr",
          "text": [
            "/usr/local/lib/python3.7/dist-packages/IPython/core/interactiveshell.py:2882: FutureWarning: The error_bad_lines argument has been deprecated and will be removed in a future version.\n",
            "\n",
            "\n",
            "  exec(code_obj, self.user_global_ns, self.user_ns)\n"
          ]
        }
      ]
    },
    {
      "cell_type": "code",
      "source": [
        "dataset.drop([\"id\", \"date\", \"query\", \"user\"],\n",
        "          axis=1,\n",
        "          inplace=True)"
      ],
      "metadata": {
        "id": "B4INwsLKg6-R"
      },
      "execution_count": 3,
      "outputs": []
    },
    {
      "cell_type": "code",
      "source": [
        "dataset.head()"
      ],
      "metadata": {
        "colab": {
          "base_uri": "https://localhost:8080/",
          "height": 206
        },
        "id": "g5lXd01VhEX8",
        "outputId": "63e20a56-e029-4bce-b204-c40c0a37cd2c"
      },
      "execution_count": 4,
      "outputs": [
        {
          "output_type": "execute_result",
          "data": {
            "text/html": [
              "\n",
              "  <div id=\"df-a8acb314-79d0-415f-9aa2-0b52812b72bc\">\n",
              "    <div class=\"colab-df-container\">\n",
              "      <div>\n",
              "<style scoped>\n",
              "    .dataframe tbody tr th:only-of-type {\n",
              "        vertical-align: middle;\n",
              "    }\n",
              "\n",
              "    .dataframe tbody tr th {\n",
              "        vertical-align: top;\n",
              "    }\n",
              "\n",
              "    .dataframe thead th {\n",
              "        text-align: right;\n",
              "    }\n",
              "</style>\n",
              "<table border=\"1\" class=\"dataframe\">\n",
              "  <thead>\n",
              "    <tr style=\"text-align: right;\">\n",
              "      <th></th>\n",
              "      <th>sentiment</th>\n",
              "      <th>tweet</th>\n",
              "    </tr>\n",
              "  </thead>\n",
              "  <tbody>\n",
              "    <tr>\n",
              "      <th>0</th>\n",
              "      <td>0</td>\n",
              "      <td>@switchfoot http://twitpic.com/2y1zl - Awww, t...</td>\n",
              "    </tr>\n",
              "    <tr>\n",
              "      <th>1</th>\n",
              "      <td>0</td>\n",
              "      <td>is upset that he can't update his Facebook by ...</td>\n",
              "    </tr>\n",
              "    <tr>\n",
              "      <th>2</th>\n",
              "      <td>0</td>\n",
              "      <td>@Kenichan I dived many times for the ball. Man...</td>\n",
              "    </tr>\n",
              "    <tr>\n",
              "      <th>3</th>\n",
              "      <td>0</td>\n",
              "      <td>my whole body feels itchy and like its on fire</td>\n",
              "    </tr>\n",
              "    <tr>\n",
              "      <th>4</th>\n",
              "      <td>0</td>\n",
              "      <td>@nationwideclass no, it's not behaving at all....</td>\n",
              "    </tr>\n",
              "  </tbody>\n",
              "</table>\n",
              "</div>\n",
              "      <button class=\"colab-df-convert\" onclick=\"convertToInteractive('df-a8acb314-79d0-415f-9aa2-0b52812b72bc')\"\n",
              "              title=\"Convert this dataframe to an interactive table.\"\n",
              "              style=\"display:none;\">\n",
              "        \n",
              "  <svg xmlns=\"http://www.w3.org/2000/svg\" height=\"24px\"viewBox=\"0 0 24 24\"\n",
              "       width=\"24px\">\n",
              "    <path d=\"M0 0h24v24H0V0z\" fill=\"none\"/>\n",
              "    <path d=\"M18.56 5.44l.94 2.06.94-2.06 2.06-.94-2.06-.94-.94-2.06-.94 2.06-2.06.94zm-11 1L8.5 8.5l.94-2.06 2.06-.94-2.06-.94L8.5 2.5l-.94 2.06-2.06.94zm10 10l.94 2.06.94-2.06 2.06-.94-2.06-.94-.94-2.06-.94 2.06-2.06.94z\"/><path d=\"M17.41 7.96l-1.37-1.37c-.4-.4-.92-.59-1.43-.59-.52 0-1.04.2-1.43.59L10.3 9.45l-7.72 7.72c-.78.78-.78 2.05 0 2.83L4 21.41c.39.39.9.59 1.41.59.51 0 1.02-.2 1.41-.59l7.78-7.78 2.81-2.81c.8-.78.8-2.07 0-2.86zM5.41 20L4 18.59l7.72-7.72 1.47 1.35L5.41 20z\"/>\n",
              "  </svg>\n",
              "      </button>\n",
              "      \n",
              "  <style>\n",
              "    .colab-df-container {\n",
              "      display:flex;\n",
              "      flex-wrap:wrap;\n",
              "      gap: 12px;\n",
              "    }\n",
              "\n",
              "    .colab-df-convert {\n",
              "      background-color: #E8F0FE;\n",
              "      border: none;\n",
              "      border-radius: 50%;\n",
              "      cursor: pointer;\n",
              "      display: none;\n",
              "      fill: #1967D2;\n",
              "      height: 32px;\n",
              "      padding: 0 0 0 0;\n",
              "      width: 32px;\n",
              "    }\n",
              "\n",
              "    .colab-df-convert:hover {\n",
              "      background-color: #E2EBFA;\n",
              "      box-shadow: 0px 1px 2px rgba(60, 64, 67, 0.3), 0px 1px 3px 1px rgba(60, 64, 67, 0.15);\n",
              "      fill: #174EA6;\n",
              "    }\n",
              "\n",
              "    [theme=dark] .colab-df-convert {\n",
              "      background-color: #3B4455;\n",
              "      fill: #D2E3FC;\n",
              "    }\n",
              "\n",
              "    [theme=dark] .colab-df-convert:hover {\n",
              "      background-color: #434B5C;\n",
              "      box-shadow: 0px 1px 3px 1px rgba(0, 0, 0, 0.15);\n",
              "      filter: drop-shadow(0px 1px 2px rgba(0, 0, 0, 0.3));\n",
              "      fill: #FFFFFF;\n",
              "    }\n",
              "  </style>\n",
              "\n",
              "      <script>\n",
              "        const buttonEl =\n",
              "          document.querySelector('#df-a8acb314-79d0-415f-9aa2-0b52812b72bc button.colab-df-convert');\n",
              "        buttonEl.style.display =\n",
              "          google.colab.kernel.accessAllowed ? 'block' : 'none';\n",
              "\n",
              "        async function convertToInteractive(key) {\n",
              "          const element = document.querySelector('#df-a8acb314-79d0-415f-9aa2-0b52812b72bc');\n",
              "          const dataTable =\n",
              "            await google.colab.kernel.invokeFunction('convertToInteractive',\n",
              "                                                     [key], {});\n",
              "          if (!dataTable) return;\n",
              "\n",
              "          const docLinkHtml = 'Like what you see? Visit the ' +\n",
              "            '<a target=\"_blank\" href=https://colab.research.google.com/notebooks/data_table.ipynb>data table notebook</a>'\n",
              "            + ' to learn more about interactive tables.';\n",
              "          element.innerHTML = '';\n",
              "          dataTable['output_type'] = 'display_data';\n",
              "          await google.colab.output.renderOutput(dataTable, element);\n",
              "          const docLink = document.createElement('div');\n",
              "          docLink.innerHTML = docLinkHtml;\n",
              "          element.appendChild(docLink);\n",
              "        }\n",
              "      </script>\n",
              "    </div>\n",
              "  </div>\n",
              "  "
            ],
            "text/plain": [
              "   sentiment                                              tweet\n",
              "0          0  @switchfoot http://twitpic.com/2y1zl - Awww, t...\n",
              "1          0  is upset that he can't update his Facebook by ...\n",
              "2          0  @Kenichan I dived many times for the ball. Man...\n",
              "3          0    my whole body feels itchy and like its on fire \n",
              "4          0  @nationwideclass no, it's not behaving at all...."
            ]
          },
          "metadata": {},
          "execution_count": 4
        }
      ]
    },
    {
      "cell_type": "code",
      "source": [
        "dataset[\"sentiment\"].unique()"
      ],
      "metadata": {
        "colab": {
          "base_uri": "https://localhost:8080/"
        },
        "id": "Zl_wyFAcikFR",
        "outputId": "b211eb6e-2469-472c-b135-12466f7edebb"
      },
      "execution_count": 5,
      "outputs": [
        {
          "output_type": "execute_result",
          "data": {
            "text/plain": [
              "array([0, 4, 2])"
            ]
          },
          "metadata": {},
          "execution_count": 5
        }
      ]
    },
    {
      "cell_type": "code",
      "source": [
        "# neutral sentiment - not needed (for now)\n",
        "dataset.loc[dataset[\"sentiment\"] == 2]"
      ],
      "metadata": {
        "colab": {
          "base_uri": "https://localhost:8080/",
          "height": 423
        },
        "id": "2E1typrLadWY",
        "outputId": "59f2c0eb-6dd0-48db-8edf-ec1a1d048826"
      },
      "execution_count": 6,
      "outputs": [
        {
          "output_type": "execute_result",
          "data": {
            "text/html": [
              "\n",
              "  <div id=\"df-9204a9d7-2970-41cc-8bec-48e6d61eed47\">\n",
              "    <div class=\"colab-df-container\">\n",
              "      <div>\n",
              "<style scoped>\n",
              "    .dataframe tbody tr th:only-of-type {\n",
              "        vertical-align: middle;\n",
              "    }\n",
              "\n",
              "    .dataframe tbody tr th {\n",
              "        vertical-align: top;\n",
              "    }\n",
              "\n",
              "    .dataframe thead th {\n",
              "        text-align: right;\n",
              "    }\n",
              "</style>\n",
              "<table border=\"1\" class=\"dataframe\">\n",
              "  <thead>\n",
              "    <tr style=\"text-align: right;\">\n",
              "      <th></th>\n",
              "      <th>sentiment</th>\n",
              "      <th>tweet</th>\n",
              "    </tr>\n",
              "  </thead>\n",
              "  <tbody>\n",
              "    <tr>\n",
              "      <th>1600009</th>\n",
              "      <td>2</td>\n",
              "      <td>Check this video out -- President Obama at the...</td>\n",
              "    </tr>\n",
              "    <tr>\n",
              "      <th>1600029</th>\n",
              "      <td>2</td>\n",
              "      <td>need suggestions for a good IR filter for my c...</td>\n",
              "    </tr>\n",
              "    <tr>\n",
              "      <th>1600030</th>\n",
              "      <td>2</td>\n",
              "      <td>@surfit: I just checked my google for my busin...</td>\n",
              "    </tr>\n",
              "    <tr>\n",
              "      <th>1600044</th>\n",
              "      <td>2</td>\n",
              "      <td>is in San Francisco at Bay to Breakers.</td>\n",
              "    </tr>\n",
              "    <tr>\n",
              "      <th>1600045</th>\n",
              "      <td>2</td>\n",
              "      <td>just landed at San Francisco</td>\n",
              "    </tr>\n",
              "    <tr>\n",
              "      <th>...</th>\n",
              "      <td>...</td>\n",
              "      <td>...</td>\n",
              "    </tr>\n",
              "    <tr>\n",
              "      <th>1600474</th>\n",
              "      <td>2</td>\n",
              "      <td>has a date with bobby flay and gut fieri from ...</td>\n",
              "    </tr>\n",
              "    <tr>\n",
              "      <th>1600482</th>\n",
              "      <td>2</td>\n",
              "      <td>How to Track Iran with Social Media: http://bi...</td>\n",
              "    </tr>\n",
              "    <tr>\n",
              "      <th>1600485</th>\n",
              "      <td>2</td>\n",
              "      <td>Twitter Stock buzz: $AAPL $ES_F $SPY $SPX $PAL...</td>\n",
              "    </tr>\n",
              "    <tr>\n",
              "      <th>1600487</th>\n",
              "      <td>2</td>\n",
              "      <td>@johncmayer is Bobby Flay joining you?</td>\n",
              "    </tr>\n",
              "    <tr>\n",
              "      <th>1600492</th>\n",
              "      <td>2</td>\n",
              "      <td>Ask Programming: LaTeX or InDesign?: submitted...</td>\n",
              "    </tr>\n",
              "  </tbody>\n",
              "</table>\n",
              "<p>139 rows × 2 columns</p>\n",
              "</div>\n",
              "      <button class=\"colab-df-convert\" onclick=\"convertToInteractive('df-9204a9d7-2970-41cc-8bec-48e6d61eed47')\"\n",
              "              title=\"Convert this dataframe to an interactive table.\"\n",
              "              style=\"display:none;\">\n",
              "        \n",
              "  <svg xmlns=\"http://www.w3.org/2000/svg\" height=\"24px\"viewBox=\"0 0 24 24\"\n",
              "       width=\"24px\">\n",
              "    <path d=\"M0 0h24v24H0V0z\" fill=\"none\"/>\n",
              "    <path d=\"M18.56 5.44l.94 2.06.94-2.06 2.06-.94-2.06-.94-.94-2.06-.94 2.06-2.06.94zm-11 1L8.5 8.5l.94-2.06 2.06-.94-2.06-.94L8.5 2.5l-.94 2.06-2.06.94zm10 10l.94 2.06.94-2.06 2.06-.94-2.06-.94-.94-2.06-.94 2.06-2.06.94z\"/><path d=\"M17.41 7.96l-1.37-1.37c-.4-.4-.92-.59-1.43-.59-.52 0-1.04.2-1.43.59L10.3 9.45l-7.72 7.72c-.78.78-.78 2.05 0 2.83L4 21.41c.39.39.9.59 1.41.59.51 0 1.02-.2 1.41-.59l7.78-7.78 2.81-2.81c.8-.78.8-2.07 0-2.86zM5.41 20L4 18.59l7.72-7.72 1.47 1.35L5.41 20z\"/>\n",
              "  </svg>\n",
              "      </button>\n",
              "      \n",
              "  <style>\n",
              "    .colab-df-container {\n",
              "      display:flex;\n",
              "      flex-wrap:wrap;\n",
              "      gap: 12px;\n",
              "    }\n",
              "\n",
              "    .colab-df-convert {\n",
              "      background-color: #E8F0FE;\n",
              "      border: none;\n",
              "      border-radius: 50%;\n",
              "      cursor: pointer;\n",
              "      display: none;\n",
              "      fill: #1967D2;\n",
              "      height: 32px;\n",
              "      padding: 0 0 0 0;\n",
              "      width: 32px;\n",
              "    }\n",
              "\n",
              "    .colab-df-convert:hover {\n",
              "      background-color: #E2EBFA;\n",
              "      box-shadow: 0px 1px 2px rgba(60, 64, 67, 0.3), 0px 1px 3px 1px rgba(60, 64, 67, 0.15);\n",
              "      fill: #174EA6;\n",
              "    }\n",
              "\n",
              "    [theme=dark] .colab-df-convert {\n",
              "      background-color: #3B4455;\n",
              "      fill: #D2E3FC;\n",
              "    }\n",
              "\n",
              "    [theme=dark] .colab-df-convert:hover {\n",
              "      background-color: #434B5C;\n",
              "      box-shadow: 0px 1px 3px 1px rgba(0, 0, 0, 0.15);\n",
              "      filter: drop-shadow(0px 1px 2px rgba(0, 0, 0, 0.3));\n",
              "      fill: #FFFFFF;\n",
              "    }\n",
              "  </style>\n",
              "\n",
              "      <script>\n",
              "        const buttonEl =\n",
              "          document.querySelector('#df-9204a9d7-2970-41cc-8bec-48e6d61eed47 button.colab-df-convert');\n",
              "        buttonEl.style.display =\n",
              "          google.colab.kernel.accessAllowed ? 'block' : 'none';\n",
              "\n",
              "        async function convertToInteractive(key) {\n",
              "          const element = document.querySelector('#df-9204a9d7-2970-41cc-8bec-48e6d61eed47');\n",
              "          const dataTable =\n",
              "            await google.colab.kernel.invokeFunction('convertToInteractive',\n",
              "                                                     [key], {});\n",
              "          if (!dataTable) return;\n",
              "\n",
              "          const docLinkHtml = 'Like what you see? Visit the ' +\n",
              "            '<a target=\"_blank\" href=https://colab.research.google.com/notebooks/data_table.ipynb>data table notebook</a>'\n",
              "            + ' to learn more about interactive tables.';\n",
              "          element.innerHTML = '';\n",
              "          dataTable['output_type'] = 'display_data';\n",
              "          await google.colab.output.renderOutput(dataTable, element);\n",
              "          const docLink = document.createElement('div');\n",
              "          docLink.innerHTML = docLinkHtml;\n",
              "          element.appendChild(docLink);\n",
              "        }\n",
              "      </script>\n",
              "    </div>\n",
              "  </div>\n",
              "  "
            ],
            "text/plain": [
              "         sentiment                                              tweet\n",
              "1600009          2  Check this video out -- President Obama at the...\n",
              "1600029          2  need suggestions for a good IR filter for my c...\n",
              "1600030          2  @surfit: I just checked my google for my busin...\n",
              "1600044          2            is in San Francisco at Bay to Breakers.\n",
              "1600045          2                       just landed at San Francisco\n",
              "...            ...                                                ...\n",
              "1600474          2  has a date with bobby flay and gut fieri from ...\n",
              "1600482          2  How to Track Iran with Social Media: http://bi...\n",
              "1600485          2  Twitter Stock buzz: $AAPL $ES_F $SPY $SPX $PAL...\n",
              "1600487          2             @johncmayer is Bobby Flay joining you?\n",
              "1600492          2  Ask Programming: LaTeX or InDesign?: submitted...\n",
              "\n",
              "[139 rows x 2 columns]"
            ]
          },
          "metadata": {},
          "execution_count": 6
        }
      ]
    },
    {
      "cell_type": "code",
      "source": [
        "dataset.drop(dataset.loc[dataset[\"sentiment\"]==2].index, inplace=True)"
      ],
      "metadata": {
        "id": "lPIEf-MZa88Y"
      },
      "execution_count": 7,
      "outputs": []
    },
    {
      "cell_type": "code",
      "source": [
        "# change labels\n",
        "data_labels = dataset[\"sentiment\"].values\n",
        "data_labels[data_labels == 4] = 1"
      ],
      "metadata": {
        "id": "OCdl6JcYio8v"
      },
      "execution_count": 8,
      "outputs": []
    },
    {
      "cell_type": "code",
      "source": [
        "dataset[\"sentiment\"].unique()"
      ],
      "metadata": {
        "colab": {
          "base_uri": "https://localhost:8080/"
        },
        "id": "8i-gSHXCi0P1",
        "outputId": "4d777f5c-ddd4-44c1-df4b-48aef6d5bd4e"
      },
      "execution_count": 9,
      "outputs": [
        {
          "output_type": "execute_result",
          "data": {
            "text/plain": [
              "array([0, 1])"
            ]
          },
          "metadata": {},
          "execution_count": 9
        }
      ]
    },
    {
      "cell_type": "code",
      "source": [
        "labels = [\"positive\", \"negative\"]\n",
        "colors = [\"olivedrab\", \"silver\"]\n",
        "\n",
        "plt.figure(figsize=(7,7))\n",
        "plt.pie(dataset[\"sentiment\"].value_counts(), labels=labels, colors=colors, autopct=\"%1.1f%%\")\n",
        "plt.legend(title = \"Tweet sentiments:\")\n",
        "plt.title(\"Sentiment distribution\")\n",
        "plt.show()"
      ],
      "metadata": {
        "id": "L2yb3X2Jnir0",
        "colab": {
          "base_uri": "https://localhost:8080/",
          "height": 427
        },
        "outputId": "aa91f9b8-837c-476d-f5b4-02d78bbce7d3"
      },
      "execution_count": 10,
      "outputs": [
        {
          "output_type": "display_data",
          "data": {
            "image/png": "[encoded data removed]",
            "text/plain": [
              "<Figure size 504x504 with 1 Axes>"
            ]
          },
          "metadata": {}
        }
      ]
    },
    {
      "cell_type": "markdown",
      "source": [
        "###DATA PREPROCESSING\n",
        "\n",
        "---\n",
        "\n"
      ],
      "metadata": {
        "id": "B5b8PhnMQutp"
      }
    },
    {
      "cell_type": "markdown",
      "source": [
        "PUNCTUATION AND OTHER JUNK\n",
        "\n",
        "---\n",
        "\n"
      ],
      "metadata": {
        "id": "43t_5kiSFQBz"
      }
    },
    {
      "cell_type": "code",
      "source": [
        "def clean_text(text):\n",
        "    # xml info\n",
        "    text = BeautifulSoup(text, \"lxml\").get_text()\n",
        "    # tags @name\n",
        "    text = re.sub(r\"@[A-Za-z0-9]+\", ' ', text)\n",
        "    # hyperlinks\n",
        "    text = re.sub(r\"https?://[A-Za-z0-9./]+\", ' ', text)\n",
        "    # punctuation, except '\n",
        "    text = re.sub(r\"[^a-zA-Z']\", ' ', text)\n",
        "    # double whitespaces\n",
        "    text = re.sub(r\" +\", ' ', text)\n",
        "    # lower-case\n",
        "    text = text.lower()\n",
        "  \n",
        "    return text"
      ],
      "metadata": {
        "id": "DrdmASZyjbHD"
      },
      "execution_count": 11,
      "outputs": []
    },
    {
      "cell_type": "code",
      "source": [
        "data_clean = [clean_text(tweet) for tweet in dataset['tweet']]"
      ],
      "metadata": {
        "id": "kJ6TPSb2WXpL"
      },
      "execution_count": 12,
      "outputs": []
    },
    {
      "cell_type": "code",
      "source": [
        "data_clean[:15]"
      ],
      "metadata": {
        "colab": {
          "base_uri": "https://localhost:8080/"
        },
        "id": "0rFAqfb4c6da",
        "outputId": "c299d99d-f799-4465-9223-18e926cba3b1"
      },
      "execution_count": 21,
      "outputs": [
        {
          "output_type": "execute_result",
          "data": {
            "text/plain": [
              "[\" awww that's a bummer you shoulda got david carr of third day to do it d\",\n",
              " \"is upset that he can't update his facebook by texting it and might cry as a result school today also blah \",\n",
              " ' i dived many times for the ball managed to save the rest go out of bounds',\n",
              " 'my whole body feels itchy and like its on fire ',\n",
              " \" no it's not behaving at all i'm mad why am i here because i can't see you all over there \",\n",
              " ' not the whole crew ',\n",
              " 'need a hug ',\n",
              " \" hey long time no see yes rains a bit only a bit lol i'm fine thanks how's you \",\n",
              " \" k nope they didn't have it \",\n",
              " ' que me muera ',\n",
              " \"spring break in plain city it's snowing \",\n",
              " 'i just re pierced my ears ',\n",
              " \" i couldn't bear to watch it and i thought the ua loss was embarrassing \",\n",
              " ' it it counts idk why i did either you never talk to me anymore ',\n",
              " \" i would've been the first but i didn't have a gun not really though zac snyder's just a doucheclown \"]"
            ]
          },
          "metadata": {},
          "execution_count": 21
        }
      ]
    },
    {
      "cell_type": "markdown",
      "source": [
        "LEMMATIZATION & STOP WORD REMOVAL\n",
        "\n",
        "---\n",
        "\n"
      ],
      "metadata": {
        "id": "5i5euOzvFVEs"
      }
    },
    {
      "cell_type": "markdown",
      "source": [
        "https://aclanthology.org/W18-5406.pdf\n",
        "\n",
        "\"In general, a simple tokenization works equally or better than more complex preprocessing techniques such as lemmatization or multiword grouping, except for domain-specific datasets (such as the medical dataset in our experiments) in which sole tokenization performs poorly\" [44] \n",
        "\n",
        "--- \n",
        "\n",
        "Based on this, decided not to lemmatize, only tokenize and remove stop words "
      ],
      "metadata": {
        "id": "UKCKsPxlw-q5"
      }
    },
    {
      "cell_type": "code",
      "source": [
        "nltk.download('stopwords')\n",
        "\n",
        "all_stopwords = stopwords.words('english')\n",
        "# negation is important, don't even know why it's considered a stop word\n",
        "all_stopwords.remove('not')\n",
        "\n",
        "def remove_stopwords(text):\n",
        "    text = text.split()\n",
        "    text = [word for word in text if not word in set(all_stopwords)]\n",
        "    text = ' '.join(text)\n",
        "    return text"
      ],
      "metadata": {
        "colab": {
          "base_uri": "https://localhost:8080/"
        },
        "id": "P9DkAEVtCwoV",
        "outputId": "e7295086-827c-4396-ce4d-8e5234de18f8"
      },
      "execution_count": 17,
      "outputs": [
        {
          "output_type": "stream",
          "name": "stdout",
          "text": [
            "[nltk_data] Downloading package stopwords to /root/nltk_data...\n",
            "[nltk_data]   Package stopwords is already up-to-date!\n"
          ]
        }
      ]
    },
    {
      "cell_type": "code",
      "source": [
        "corpus = [remove_stopwords(tweet) for tweet in data_clean]"
      ],
      "metadata": {
        "id": "kf7RLrZmI6k5"
      },
      "execution_count": 18,
      "outputs": []
    },
    {
      "cell_type": "code",
      "source": [
        "corpus[:15]"
      ],
      "metadata": {
        "colab": {
          "base_uri": "https://localhost:8080/"
        },
        "id": "wCc2IjZrJTQz",
        "outputId": "8aaf21b1-d465-43d2-f4ea-bc0c08f7c451"
      },
      "execution_count": 22,
      "outputs": [
        {
          "output_type": "execute_result",
          "data": {
            "text/plain": [
              "[\"awww that's bummer shoulda got david carr third day\",\n",
              " \"upset can't update facebook texting might cry result school today also blah\",\n",
              " 'dived many times ball managed save rest go bounds',\n",
              " 'whole body feels itchy like fire',\n",
              " \"not behaving i'm mad can't see\",\n",
              " 'not whole crew',\n",
              " 'need hug',\n",
              " \"hey long time see yes rains bit bit lol i'm fine thanks how's\",\n",
              " 'k nope',\n",
              " 'que muera',\n",
              " 'spring break plain city snowing',\n",
              " 'pierced ears',\n",
              " 'bear watch thought ua loss embarrassing',\n",
              " 'counts idk either never talk anymore',\n",
              " \"would've first gun not really though zac snyder's doucheclown\"]"
            ]
          },
          "metadata": {},
          "execution_count": 22
        }
      ]
    },
    {
      "cell_type": "markdown",
      "source": [
        "EMBEDDING\n",
        "\n",
        "---\n",
        "\n"
      ],
      "metadata": {
        "id": "Jwmp_9FJFahE"
      }
    },
    {
      "cell_type": "code",
      "source": [
        "# UPGRADE TO BERT LATER\n",
        "tokenizer = tfds.deprecated.text.SubwordTextEncoder.build_from_corpus(corpus, target_vocab_size=2**16)\n",
        "\n",
        "embedded_data = [tokenizer.encode(sentence) for sentence in corpus]"
      ],
      "metadata": {
        "id": "uI02e8Bxnwdk"
      },
      "execution_count": 23,
      "outputs": []
    },
    {
      "cell_type": "code",
      "source": [
        "embedded_data[:10]"
      ],
      "metadata": {
        "id": "OR0nfPz-DNUz"
      },
      "execution_count": null,
      "outputs": []
    },
    {
      "cell_type": "markdown",
      "source": [
        "PADDING\n",
        "\n",
        "---\n",
        "\n"
      ],
      "metadata": {
        "id": "CFu7eiopFc3z"
      }
    },
    {
      "cell_type": "code",
      "source": [
        "max_length = max([len(tweet) for tweet in embedded_data])\n",
        "\n",
        "padded_data = tf.keras.preprocessing.sequence.pad_sequences(embedded_data,\n",
        "                                                            value=0,\n",
        "                                                            padding=\"post\",\n",
        "                                                            maxlen=max_length)"
      ],
      "metadata": {
        "id": "8H0nTAcmnwPX"
      },
      "execution_count": 26,
      "outputs": []
    },
    {
      "cell_type": "code",
      "source": [
        "padded_data[:10]"
      ],
      "metadata": {
        "id": "hijO2OHIDWzz"
      },
      "execution_count": null,
      "outputs": []
    },
    {
      "cell_type": "markdown",
      "source": [
        "###TRAIN/TEST/VALIDATION SPLIT\n",
        "\n",
        "---\n",
        "\n"
      ],
      "metadata": {
        "id": "5uX1jZHpQ3AJ"
      }
    },
    {
      "cell_type": "code",
      "source": [
        "### FIX Y DATA SHAPE"
      ],
      "metadata": {
        "id": "Vq5ZqKqfGBKp"
      },
      "execution_count": null,
      "outputs": []
    },
    {
      "cell_type": "code",
      "source": [
        "X = padded_data\n",
        "y = dataset[\"sentiment\"]\n",
        "\n",
        "X_train, X_remaining, y_train, y_remaining = train_test_split(X, y, test_size = 0.2, random_state = 5)"
      ],
      "metadata": {
        "id": "hbY9bt-JgNWQ"
      },
      "execution_count": 30,
      "outputs": []
    },
    {
      "cell_type": "code",
      "source": [
        "X_valid, X_test, y_valid, y_test = train_test_split(X_remaining, y_remaining, test_size = 0.5, random_state = 5)"
      ],
      "metadata": {
        "id": "N409z9MapD9q"
      },
      "execution_count": 31,
      "outputs": []
    },
    {
      "cell_type": "code",
      "source": [
        "X_train[:5]"
      ],
      "metadata": {
        "colab": {
          "base_uri": "https://localhost:8080/"
        },
        "id": "fSTkWP2RGH5P",
        "outputId": "67122b19-c951-4fcf-8a20-451184707c99"
      },
      "execution_count": 60,
      "outputs": [
        {
          "output_type": "execute_result",
          "data": {
            "text/plain": [
              "array([[  375,    17,   611,    69,     0,     0,     0,     0,     0,\n",
              "            0,     0,     0,     0,     0,     0,     0,     0,     0,\n",
              "            0,     0,     0,     0,     0,     0,     0,     0,     0,\n",
              "            0,     0,     0,     0,     0,     0,     0,     0,     0,\n",
              "            0,     0,     0,     0,     0,     0,     0,     0,     0],\n",
              "       [ 5952,     0,     0,     0,     0,     0,     0,     0,     0,\n",
              "            0,     0,     0,     0,     0,     0,     0,     0,     0,\n",
              "            0,     0,     0,     0,     0,     0,     0,     0,     0,\n",
              "            0,     0,     0,     0,     0,     0,     0,     0,     0,\n",
              "            0,     0,     0,     0,     0,     0,     0,     0,     0],\n",
              "       [ 2439,   158,    45,  1382,  3805,   544,   448,     0,     0,\n",
              "            0,     0,     0,     0,     0,     0,     0,     0,     0,\n",
              "            0,     0,     0,     0,     0,     0,     0,     0,     0,\n",
              "            0,     0,     0,     0,     0,     0,     0,     0,     0,\n",
              "            0,     0,     0,     0,     0,     0,     0,     0,     0],\n",
              "       [   36,     3,   109,    85,   176,   137,     0,     0,     0,\n",
              "            0,     0,     0,     0,     0,     0,     0,     0,     0,\n",
              "            0,     0,     0,     0,     0,     0,     0,     0,     0,\n",
              "            0,     0,     0,     0,     0,     0,     0,     0,     0,\n",
              "            0,     0,     0,     0,     0,     0,     0,     0,     0],\n",
              "       [    9,     5, 20123,     0,     0,     0,     0,     0,     0,\n",
              "            0,     0,     0,     0,     0,     0,     0,     0,     0,\n",
              "            0,     0,     0,     0,     0,     0,     0,     0,     0,\n",
              "            0,     0,     0,     0,     0,     0,     0,     0,     0,\n",
              "            0,     0,     0,     0,     0,     0,     0,     0,     0]],\n",
              "      dtype=int32)"
            ]
          },
          "metadata": {},
          "execution_count": 60
        }
      ]
    },
    {
      "cell_type": "code",
      "source": [
        "y_train[:5]"
      ],
      "metadata": {
        "colab": {
          "base_uri": "https://localhost:8080/"
        },
        "id": "kRcAzhrjGbju",
        "outputId": "23647234-2542-43bd-9be8-7a873a172d09"
      },
      "execution_count": 61,
      "outputs": [
        {
          "output_type": "execute_result",
          "data": {
            "text/plain": [
              "166625     0\n",
              "1130258    1\n",
              "739550     0\n",
              "305106     0\n",
              "1099381    1\n",
              "Name: sentiment, dtype: int64"
            ]
          },
          "metadata": {},
          "execution_count": 61
        }
      ]
    },
    {
      "cell_type": "code",
      "source": [
        "plt.figure(figsize=(7,7))\n",
        "plt.pie(y_train.value_counts(), labels=labels, colors=colors, autopct=\"%1.1f%%\")\n",
        "plt.legend(title = \"Tweet sentiments:\")\n",
        "plt.title(\"Sentiment distribution in the training set\")\n",
        "plt.show()"
      ],
      "metadata": {
        "id": "EAYloKLHxjEM",
        "colab": {
          "base_uri": "https://localhost:8080/",
          "height": 427
        },
        "outputId": "1f538a36-cc2e-4ba4-ee0a-a0b1871c7e39"
      },
      "execution_count": 32,
      "outputs": [
        {
          "output_type": "display_data",
          "data": {
            "image/png": "[encoded data removed]",
            "text/plain": [
              "<Figure size 504x504 with 1 Axes>"
            ]
          },
          "metadata": {}
        }
      ]
    },
    {
      "cell_type": "code",
      "source": [
        "X_valid[:5]"
      ],
      "metadata": {
        "colab": {
          "base_uri": "https://localhost:8080/"
        },
        "id": "cE-4TyTwGLnH",
        "outputId": "cdc32119-240e-44ff-adcd-abf6f9f4df3c"
      },
      "execution_count": 59,
      "outputs": [
        {
          "output_type": "execute_result",
          "data": {
            "text/plain": [
              "array([[  938,  2505,     6,   229,    19,  5300, 23647,  1390,     3,\n",
              "          226,     0,     0,     0,     0,     0,     0,     0,     0,\n",
              "            0,     0,     0,     0,     0,     0,     0,     0,     0,\n",
              "            0,     0,     0,     0,     0,     0,     0,     0,     0,\n",
              "            0,     0,     0,     0,     0,     0,     0,     0,     0],\n",
              "       [  511, 16501, 31987,     2,   188,     8,    14,   587,  2103,\n",
              "        65344, 65420,     0,     0,     0,     0,     0,     0,     0,\n",
              "            0,     0,     0,     0,     0,     0,     0,     0,     0,\n",
              "            0,     0,     0,     0,     0,     0,     0,     0,     0,\n",
              "            0,     0,     0,     0,     0,     0,     0,     0,     0],\n",
              "       [   27,   540,    22, 65344,    12,     8,    57,  2176,     9,\n",
              "          103,    73,   120,  2994,   156,     0,     0,     0,     0,\n",
              "            0,     0,     0,     0,     0,     0,     0,     0,     0,\n",
              "            0,     0,     0,     0,     0,     0,     0,     0,     0,\n",
              "            0,     0,     0,     0,     0,     0,     0,     0,     0],\n",
              "       [37622, 21192, 65337,   163,   100,    25,  4149,   881,    43,\n",
              "          318, 65344,     2,  4149, 64794, 65426,     0,     0,     0,\n",
              "            0,     0,     0,     0,     0,     0,     0,     0,     0,\n",
              "            0,     0,     0,     0,     0,     0,     0,     0,     0,\n",
              "            0,     0,     0,     0,     0,     0,     0,     0,     0],\n",
              "       [  712,   521,    29,  2320,    10,   269,  1120,     0,     0,\n",
              "            0,     0,     0,     0,     0,     0,     0,     0,     0,\n",
              "            0,     0,     0,     0,     0,     0,     0,     0,     0,\n",
              "            0,     0,     0,     0,     0,     0,     0,     0,     0,\n",
              "            0,     0,     0,     0,     0,     0,     0,     0,     0]],\n",
              "      dtype=int32)"
            ]
          },
          "metadata": {},
          "execution_count": 59
        }
      ]
    },
    {
      "cell_type": "code",
      "source": [
        "y_valid[:5]"
      ],
      "metadata": {
        "colab": {
          "base_uri": "https://localhost:8080/"
        },
        "id": "K_KNnXBPGetE",
        "outputId": "fccff1e4-fb4e-4fa1-ee0f-912f46f0fea9"
      },
      "execution_count": 62,
      "outputs": [
        {
          "output_type": "execute_result",
          "data": {
            "text/plain": [
              "1319643    1\n",
              "642522     0\n",
              "1264612    1\n",
              "153376     0\n",
              "1349334    1\n",
              "Name: sentiment, dtype: int64"
            ]
          },
          "metadata": {},
          "execution_count": 62
        }
      ]
    },
    {
      "cell_type": "code",
      "source": [
        "plt.figure(figsize=(7,7))\n",
        "plt.pie(y_valid.value_counts(), labels=labels, colors=colors, autopct=\"%1.1f%%\")\n",
        "plt.legend(title = \"Tweet sentiments:\")\n",
        "plt.title(\"Sentiment distribution in the validation set\")\n",
        "plt.show()"
      ],
      "metadata": {
        "id": "9lLZJrgQx0g5",
        "colab": {
          "base_uri": "https://localhost:8080/",
          "height": 427
        },
        "outputId": "eb8ebc67-1c37-4403-8abb-845d24cb0cbd"
      },
      "execution_count": 33,
      "outputs": [
        {
          "output_type": "display_data",
          "data": {
            "image/png": "[encoded data removed]",
            "text/plain": [
              "<Figure size 504x504 with 1 Axes>"
            ]
          },
          "metadata": {}
        }
      ]
    },
    {
      "cell_type": "code",
      "source": [
        "X_test[:5]"
      ],
      "metadata": {
        "colab": {
          "base_uri": "https://localhost:8080/"
        },
        "id": "u4vh-6KSGNIB",
        "outputId": "ab27265e-2bb0-4295-ecb4-8b8084127297"
      },
      "execution_count": 58,
      "outputs": [
        {
          "output_type": "execute_result",
          "data": {
            "text/plain": [
              "array([[31803,     0,     0,     0,     0,     0,     0,     0,     0,\n",
              "            0,     0,     0,     0,     0,     0,     0,     0,     0,\n",
              "            0,     0,     0,     0,     0,     0,     0,     0,     0,\n",
              "            0,     0,     0,     0,     0,     0,     0,     0,     0,\n",
              "            0,     0,     0,     0,     0,     0,     0,     0,     0],\n",
              "       [   35,    16,   570,    16,    14,    53,    17,     5,   688,\n",
              "          154,  6658,  1784,     0,     0,     0,     0,     0,     0,\n",
              "            0,     0,     0,     0,     0,     0,     0,     0,     0,\n",
              "            0,     0,     0,     0,     0,     0,     0,     0,     0,\n",
              "            0,     0,     0,     0,     0,     0,     0,     0,     0],\n",
              "       [ 1011,   801, 65344,     2,   151, 10521,   251,   532,   678,\n",
              "           36,   170,  2857,   406,   314,     0,     0,     0,     0,\n",
              "            0,     0,     0,     0,     0,     0,     0,     0,     0,\n",
              "            0,     0,     0,     0,     0,     0,     0,     0,     0,\n",
              "            0,     0,     0,     0,     0,     0,     0,     0,     0],\n",
              "       [  318, 65344,     2,    60,     3,    55,  1664, 47756,  1715,\n",
              "         1838,  1513,  2431,  1929,   122,   207, 58549,     0,     0,\n",
              "            0,     0,     0,     0,     0,     0,     0,     0,     0,\n",
              "            0,     0,     0,     0,     0,     0,     0,     0,     0,\n",
              "            0,     0,     0,     0,     0,     0,     0,     0,     0],\n",
              "       [   18,  1291, 63793, 20363,  1749,  1049, 10475,     0,     0,\n",
              "            0,     0,     0,     0,     0,     0,     0,     0,     0,\n",
              "            0,     0,     0,     0,     0,     0,     0,     0,     0,\n",
              "            0,     0,     0,     0,     0,     0,     0,     0,     0,\n",
              "            0,     0,     0,     0,     0,     0,     0,     0,     0]],\n",
              "      dtype=int32)"
            ]
          },
          "metadata": {},
          "execution_count": 58
        }
      ]
    },
    {
      "cell_type": "code",
      "source": [
        "y_test[:5]"
      ],
      "metadata": {
        "colab": {
          "base_uri": "https://localhost:8080/"
        },
        "id": "t1OP-RyxGjhJ",
        "outputId": "262b8874-7a2b-42cc-f9a7-c242eaaa6c31"
      },
      "execution_count": 63,
      "outputs": [
        {
          "output_type": "execute_result",
          "data": {
            "text/plain": [
              "181565    0\n",
              "255261    0\n",
              "575860    0\n",
              "622569    0\n",
              "654666    0\n",
              "Name: sentiment, dtype: int64"
            ]
          },
          "metadata": {},
          "execution_count": 63
        }
      ]
    },
    {
      "cell_type": "code",
      "source": [
        "plt.figure(figsize=(7,7))\n",
        "plt.pie(y_test.value_counts(), labels=labels, colors=colors, autopct=\"%1.1f%%\")\n",
        "plt.legend(title = \"Tweet sentiments:\")\n",
        "plt.title(\"Sentiment distribution in the test set\")\n",
        "plt.show()"
      ],
      "metadata": {
        "id": "FnuhDNyRx0cF",
        "colab": {
          "base_uri": "https://localhost:8080/",
          "height": 427
        },
        "outputId": "ca1fe138-2ed3-4b8e-8f11-905d8e953bce"
      },
      "execution_count": 34,
      "outputs": [
        {
          "output_type": "display_data",
          "data": {
            "image/png": "[encoded data removed]",
            "text/plain": [
              "<Figure size 504x504 with 1 Axes>"
            ]
          },
          "metadata": {}
        }
      ]
    },
    {
      "cell_type": "markdown",
      "source": [
        "### MULTINOMIAL NAIVE BAYES"
      ],
      "metadata": {
        "id": "GjndbhOQSHwP"
      }
    },
    {
      "cell_type": "markdown",
      "source": [
        "MODEL CONFIGURATION\n",
        "\n",
        "---\n",
        "\n"
      ],
      "metadata": {
        "id": "Kam4ZR5LScp-"
      }
    },
    {
      "cell_type": "code",
      "source": [
        "from sklearn.naive_bayes import MultinomialNB\n",
        "bayes_classifier = MultinomialNB()"
      ],
      "metadata": {
        "id": "1UuPN4HIAIc3"
      },
      "execution_count": 37,
      "outputs": []
    },
    {
      "cell_type": "markdown",
      "source": [
        "MODEL TRAINING\n",
        "\n",
        "---\n",
        "\n"
      ],
      "metadata": {
        "id": "eF5D8N0fSfRW"
      }
    },
    {
      "cell_type": "code",
      "source": [
        "bayes_classifier.fit(X_train, y_train)"
      ],
      "metadata": {
        "colab": {
          "base_uri": "https://localhost:8080/"
        },
        "id": "4n-2LUx7AJwM",
        "outputId": "5b1a7db8-443a-4f9f-ab84-bdb7d4556fd7"
      },
      "execution_count": 38,
      "outputs": [
        {
          "output_type": "execute_result",
          "data": {
            "text/plain": [
              "MultinomialNB()"
            ]
          },
          "metadata": {},
          "execution_count": 38
        }
      ]
    },
    {
      "cell_type": "markdown",
      "source": [
        "MODEL EVALUATION\n",
        "\n",
        "---\n",
        "\n"
      ],
      "metadata": {
        "id": "uPrgRPQTShm3"
      }
    },
    {
      "cell_type": "code",
      "source": [
        "# y_eval = bayes_classifier.predict(X_valid)\n",
        "# print(np.concatenate((y_eval.reshape(len(y_eval),1), y_valid.reshape(len(y_valid),1)),1))"
      ],
      "metadata": {
        "id": "MnV6oNr1Bj-Z"
      },
      "execution_count": null,
      "outputs": []
    },
    {
      "cell_type": "code",
      "source": [
        "# y_pred = bayes_classifier.predict(X_test)\n",
        "\n",
        "# matrix = confusion_matrix(y_test, y_pred)\n",
        "# print(matrix)\n",
        "# accuracy_score(y_test, y_pred)"
      ],
      "metadata": {
        "id": "i5QWtNLcAKFo"
      },
      "execution_count": 47,
      "outputs": []
    },
    {
      "cell_type": "markdown",
      "source": [
        "NEW PREDICTIONS\n",
        "\n",
        "---\n",
        "\n"
      ],
      "metadata": {
        "id": "Ppt2b8CiSjWu"
      }
    },
    {
      "cell_type": "code",
      "source": [
        "# def new_data_cleanup(data):\n",
        "#     data = clean_text(data)\n",
        "#     data = remove_stopwords(data)\n",
        "#     data = tokenizer.encode(data)\n",
        "#     return data"
      ],
      "metadata": {
        "id": "EZSuA-5QCMtp"
      },
      "execution_count": 53,
      "outputs": []
    },
    {
      "cell_type": "code",
      "source": [
        "# review = 'I love this restaurant so much'\n",
        "\n",
        "# new_review = new_data_cleanup(review)\n",
        "# new_prediction = bayes_classifier.predict(new_review)"
      ],
      "metadata": {
        "id": "5Mg5_K79AKoG"
      },
      "execution_count": null,
      "outputs": []
    },
    {
      "cell_type": "markdown",
      "source": [
        "### CONVOLUTIONAL NEURAL NETWORK"
      ],
      "metadata": {
        "id": "p6wEhMJIRPxw"
      }
    },
    {
      "cell_type": "markdown",
      "source": [
        "MODEL CONFIGURATION\n",
        "\n",
        "---\n",
        "\n"
      ],
      "metadata": {
        "id": "KsfmMGbsQ5JZ"
      }
    },
    {
      "cell_type": "markdown",
      "source": [
        "MODEL TRAINING\n",
        "\n",
        "---\n",
        "\n"
      ],
      "metadata": {
        "id": "YR78AqTJQ9fp"
      }
    },
    {
      "cell_type": "markdown",
      "source": [
        "MODEL EVALUATION\n",
        "\n",
        "---\n",
        "\n"
      ],
      "metadata": {
        "id": "ImUqeNmvQ-y_"
      }
    },
    {
      "cell_type": "markdown",
      "source": [
        "NEW PREDICTIONS\n",
        "\n",
        "---\n",
        "\n"
      ],
      "metadata": {
        "id": "rMS0NzQJRHIH"
      }
    },
    {
      "cell_type": "markdown",
      "source": [
        "### RECURRENT NEURAL NETWORK"
      ],
      "metadata": {
        "id": "cb93z5GTR19Y"
      }
    },
    {
      "cell_type": "markdown",
      "source": [
        "MODEL CONFIGURATION\n",
        "\n",
        "---\n",
        "\n"
      ],
      "metadata": {
        "id": "B-5u45PmR-Ov"
      }
    },
    {
      "cell_type": "markdown",
      "source": [
        "MODEL TRAINING\n",
        "\n",
        "---\n",
        "\n"
      ],
      "metadata": {
        "id": "1QCui2nZSBan"
      }
    },
    {
      "cell_type": "markdown",
      "source": [
        "MODEL EVALUATION\n",
        "\n",
        "---\n",
        "\n"
      ],
      "metadata": {
        "id": "dakgke9cSDaP"
      }
    },
    {
      "cell_type": "markdown",
      "source": [
        "NEW PREDICTIONS\n",
        "\n",
        "---\n",
        "\n"
      ],
      "metadata": {
        "id": "gRk_FPvGSFtw"
      }
    }
  ]
}