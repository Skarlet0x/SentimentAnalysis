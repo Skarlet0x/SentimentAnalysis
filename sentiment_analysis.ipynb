{
  "cells": [
    {
      "cell_type": "markdown",
      "metadata": {
        "id": "8gEVQHSCP4sC"
      },
      "source": [
        "###IMPORTS\n",
        "\n",
        "---\n",
        "\n",
        "\n",
        "\n"
      ]
    },
    {
      "cell_type": "code",
      "execution_count": null,
      "metadata": {
        "id": "BncibV_2PSeB"
      },
      "outputs": [],
      "source": [
        "!pip install tensorflow"
      ]
    },
    {
      "cell_type": "code",
      "execution_count": null,
      "metadata": {
        "id": "Vd8Xv-bbP2l3"
      },
      "outputs": [],
      "source": [
        "import numpy as np\n",
        "import pandas as pd\n",
        "import matplotlib.pyplot as plt\n",
        "\n",
        "import re\n",
        "import nltk\n",
        "from nltk.corpus import stopwords\n",
        "from bs4 import BeautifulSoup\n",
        "\n",
        "from sklearn.model_selection import train_test_split\n",
        "from sklearn.metrics import confusion_matrix, accuracy_score, classification_report\n",
        "\n",
        "import tensorflow as tf\n",
        "from tensorflow.keras import layers\n",
        "# import tensorflow_datasets as tfds"
      ]
    },
    {
      "cell_type": "markdown",
      "metadata": {
        "id": "7O0EOPeUQd4R"
      },
      "source": [
        "###DATASET\n",
        "\n",
        "---\n",
        "\n"
      ]
    },
    {
      "cell_type": "code",
      "execution_count": null,
      "metadata": {
        "id": "5PJMY-nVXPwZ"
      },
      "outputs": [],
      "source": [
        "columns = [\"sentiment\", \"id\", \"date\", \"query\", \"user\", \"tweet\"]\n",
        "\n",
        "dataset = pd.read_csv('data.csv', \n",
        "                      header=None,\n",
        "                      names=columns,\n",
        "                      engine=\"python\",\n",
        "                      encoding=\"latin1\",\n",
        "                      error_bad_lines=False)"
      ]
    },
    {
      "cell_type": "code",
      "execution_count": null,
      "metadata": {
        "id": "B4INwsLKg6-R",
        "scrolled": true
      },
      "outputs": [],
      "source": [
        "dataset.drop([\"id\", \"date\", \"query\", \"user\"],\n",
        "          axis=1,\n",
        "          inplace=True)"
      ]
    },
    {
      "cell_type": "code",
      "execution_count": null,
      "metadata": {
        "id": "g5lXd01VhEX8",
        "outputId": "8dd70e15-acb3-4daf-8a3c-ce3dd4d019f8"
      },
      "outputs": [
        {
          "data": {
            "text/html": [
              "<div>\n",
              "<style scoped>\n",
              "    .dataframe tbody tr th:only-of-type {\n",
              "        vertical-align: middle;\n",
              "    }\n",
              "\n",
              "    .dataframe tbody tr th {\n",
              "        vertical-align: top;\n",
              "    }\n",
              "\n",
              "    .dataframe thead th {\n",
              "        text-align: right;\n",
              "    }\n",
              "</style>\n",
              "<table border=\"1\" class=\"dataframe\">\n",
              "  <thead>\n",
              "    <tr style=\"text-align: right;\">\n",
              "      <th></th>\n",
              "      <th>sentiment</th>\n",
              "      <th>tweet</th>\n",
              "    </tr>\n",
              "  </thead>\n",
              "  <tbody>\n",
              "    <tr>\n",
              "      <th>0</th>\n",
              "      <td>0</td>\n",
              "      <td>@switchfoot http://twitpic.com/2y1zl - Awww, t...</td>\n",
              "    </tr>\n",
              "    <tr>\n",
              "      <th>1</th>\n",
              "      <td>0</td>\n",
              "      <td>is upset that he can't update his Facebook by ...</td>\n",
              "    </tr>\n",
              "    <tr>\n",
              "      <th>2</th>\n",
              "      <td>0</td>\n",
              "      <td>@Kenichan I dived many times for the ball. Man...</td>\n",
              "    </tr>\n",
              "    <tr>\n",
              "      <th>3</th>\n",
              "      <td>0</td>\n",
              "      <td>my whole body feels itchy and like its on fire</td>\n",
              "    </tr>\n",
              "    <tr>\n",
              "      <th>4</th>\n",
              "      <td>0</td>\n",
              "      <td>@nationwideclass no, it's not behaving at all....</td>\n",
              "    </tr>\n",
              "  </tbody>\n",
              "</table>\n",
              "</div>"
            ],
            "text/plain": [
              "   sentiment                                              tweet\n",
              "0          0  @switchfoot http://twitpic.com/2y1zl - Awww, t...\n",
              "1          0  is upset that he can't update his Facebook by ...\n",
              "2          0  @Kenichan I dived many times for the ball. Man...\n",
              "3          0    my whole body feels itchy and like its on fire \n",
              "4          0  @nationwideclass no, it's not behaving at all...."
            ]
          },
          "execution_count": 7,
          "metadata": {},
          "output_type": "execute_result"
        }
      ],
      "source": [
        "dataset.head()"
      ]
    },
    {
      "cell_type": "code",
      "execution_count": null,
      "metadata": {
        "id": "Zl_wyFAcikFR",
        "outputId": "087d3cd7-2a9a-4157-97c1-2ca18fea0653"
      },
      "outputs": [
        {
          "data": {
            "text/plain": [
              "array([0, 4, 2], dtype=int64)"
            ]
          },
          "execution_count": 8,
          "metadata": {},
          "output_type": "execute_result"
        }
      ],
      "source": [
        "dataset[\"sentiment\"].unique()"
      ]
    },
    {
      "cell_type": "code",
      "execution_count": null,
      "metadata": {
        "id": "2E1typrLadWY",
        "outputId": "32767795-e026-4c25-8b4d-7314c95b5dc7"
      },
      "outputs": [
        {
          "data": {
            "text/html": [
              "<div>\n",
              "<style scoped>\n",
              "    .dataframe tbody tr th:only-of-type {\n",
              "        vertical-align: middle;\n",
              "    }\n",
              "\n",
              "    .dataframe tbody tr th {\n",
              "        vertical-align: top;\n",
              "    }\n",
              "\n",
              "    .dataframe thead th {\n",
              "        text-align: right;\n",
              "    }\n",
              "</style>\n",
              "<table border=\"1\" class=\"dataframe\">\n",
              "  <thead>\n",
              "    <tr style=\"text-align: right;\">\n",
              "      <th></th>\n",
              "      <th>sentiment</th>\n",
              "      <th>tweet</th>\n",
              "    </tr>\n",
              "  </thead>\n",
              "  <tbody>\n",
              "    <tr>\n",
              "      <th>1600009</th>\n",
              "      <td>2</td>\n",
              "      <td>Check this video out -- President Obama at the...</td>\n",
              "    </tr>\n",
              "    <tr>\n",
              "      <th>1600029</th>\n",
              "      <td>2</td>\n",
              "      <td>need suggestions for a good IR filter for my c...</td>\n",
              "    </tr>\n",
              "    <tr>\n",
              "      <th>1600030</th>\n",
              "      <td>2</td>\n",
              "      <td>@surfit: I just checked my google for my busin...</td>\n",
              "    </tr>\n",
              "    <tr>\n",
              "      <th>1600044</th>\n",
              "      <td>2</td>\n",
              "      <td>is in San Francisco at Bay to Breakers.</td>\n",
              "    </tr>\n",
              "    <tr>\n",
              "      <th>1600045</th>\n",
              "      <td>2</td>\n",
              "      <td>just landed at San Francisco</td>\n",
              "    </tr>\n",
              "    <tr>\n",
              "      <th>...</th>\n",
              "      <td>...</td>\n",
              "      <td>...</td>\n",
              "    </tr>\n",
              "    <tr>\n",
              "      <th>1600474</th>\n",
              "      <td>2</td>\n",
              "      <td>has a date with bobby flay and gut fieri from ...</td>\n",
              "    </tr>\n",
              "    <tr>\n",
              "      <th>1600482</th>\n",
              "      <td>2</td>\n",
              "      <td>How to Track Iran with Social Media: http://bi...</td>\n",
              "    </tr>\n",
              "    <tr>\n",
              "      <th>1600485</th>\n",
              "      <td>2</td>\n",
              "      <td>Twitter Stock buzz: $AAPL $ES_F $SPY $SPX $PAL...</td>\n",
              "    </tr>\n",
              "    <tr>\n",
              "      <th>1600487</th>\n",
              "      <td>2</td>\n",
              "      <td>@johncmayer is Bobby Flay joining you?</td>\n",
              "    </tr>\n",
              "    <tr>\n",
              "      <th>1600492</th>\n",
              "      <td>2</td>\n",
              "      <td>Ask Programming: LaTeX or InDesign?: submitted...</td>\n",
              "    </tr>\n",
              "  </tbody>\n",
              "</table>\n",
              "<p>139 rows × 2 columns</p>\n",
              "</div>"
            ],
            "text/plain": [
              "         sentiment                                              tweet\n",
              "1600009          2  Check this video out -- President Obama at the...\n",
              "1600029          2  need suggestions for a good IR filter for my c...\n",
              "1600030          2  @surfit: I just checked my google for my busin...\n",
              "1600044          2            is in San Francisco at Bay to Breakers.\n",
              "1600045          2                       just landed at San Francisco\n",
              "...            ...                                                ...\n",
              "1600474          2  has a date with bobby flay and gut fieri from ...\n",
              "1600482          2  How to Track Iran with Social Media: http://bi...\n",
              "1600485          2  Twitter Stock buzz: $AAPL $ES_F $SPY $SPX $PAL...\n",
              "1600487          2             @johncmayer is Bobby Flay joining you?\n",
              "1600492          2  Ask Programming: LaTeX or InDesign?: submitted...\n",
              "\n",
              "[139 rows x 2 columns]"
            ]
          },
          "execution_count": 9,
          "metadata": {},
          "output_type": "execute_result"
        }
      ],
      "source": [
        "# neutral sentiment - not needed (for now)\n",
        "dataset.loc[dataset[\"sentiment\"] == 2]"
      ]
    },
    {
      "cell_type": "code",
      "execution_count": null,
      "metadata": {
        "id": "lPIEf-MZa88Y"
      },
      "outputs": [],
      "source": [
        "dataset.drop(dataset.loc[dataset[\"sentiment\"]==2].index, inplace=True)"
      ]
    },
    {
      "cell_type": "code",
      "execution_count": null,
      "metadata": {
        "id": "OCdl6JcYio8v"
      },
      "outputs": [],
      "source": [
        "# change labels\n",
        "data_labels = dataset[\"sentiment\"].values\n",
        "data_labels[data_labels == 4] = 1"
      ]
    },
    {
      "cell_type": "code",
      "execution_count": null,
      "metadata": {
        "id": "8i-gSHXCi0P1",
        "outputId": "ecd3bffd-4c68-4fcd-de0b-3695e92b9de7"
      },
      "outputs": [
        {
          "data": {
            "text/plain": [
              "array([0, 1], dtype=int64)"
            ]
          },
          "execution_count": 12,
          "metadata": {},
          "output_type": "execute_result"
        }
      ],
      "source": [
        "dataset[\"sentiment\"].unique()"
      ]
    },
    {
      "cell_type": "code",
      "execution_count": null,
      "metadata": {
        "id": "L2yb3X2Jnir0",
        "outputId": "0860d76e-0c1c-44b7-c69f-f858ef9d64e6"
      },
      "outputs": [
        {
          "data": {
            "image/png": "[encoded data removed]",
            "text/plain": [
              "<Figure size 504x504 with 1 Axes>"
            ]
          },
          "metadata": {},
          "output_type": "display_data"
        }
      ],
      "source": [
        "labels = [\"positive\", \"negative\"]\n",
        "colors = [\"olivedrab\", \"silver\"]\n",
        "\n",
        "plt.figure(figsize=(7,7))\n",
        "plt.pie(dataset[\"sentiment\"].value_counts(), labels=labels, colors=colors, autopct=\"%1.1f%%\")\n",
        "plt.legend(title = \"Tweet sentiments:\")\n",
        "plt.title(\"Sentiment distribution\")\n",
        "plt.show()"
      ]
    },
    {
      "cell_type": "markdown",
      "metadata": {
        "id": "B5b8PhnMQutp"
      },
      "source": [
        "###DATA PREPROCESSING\n",
        "\n",
        "---\n",
        "\n"
      ]
    },
    {
      "cell_type": "markdown",
      "metadata": {
        "id": "43t_5kiSFQBz"
      },
      "source": [
        "**PUNCTUATION AND OTHER JUNK**\n",
        "\n",
        "---\n",
        "\n"
      ]
    },
    {
      "cell_type": "code",
      "execution_count": null,
      "metadata": {
        "id": "DrdmASZyjbHD"
      },
      "outputs": [],
      "source": [
        "def clean_text(text):\n",
        "    # xml info\n",
        "    text = BeautifulSoup(text, \"lxml\").get_text()\n",
        "    # tags @name\n",
        "    text = re.sub(r\"@[A-Za-z0-9]+\", ' ', text)\n",
        "    # hyperlinks\n",
        "    text = re.sub(r\"https?://[A-Za-z0-9./]+\", ' ', text)\n",
        "    # punctuation, except '\n",
        "    text = re.sub(r\"[^a-zA-Z']\", ' ', text)\n",
        "    # double whitespaces\n",
        "    text = re.sub(r\" +\", ' ', text)\n",
        "    # lower-case\n",
        "    text = text.lower()\n",
        "  \n",
        "    return text"
      ]
    },
    {
      "cell_type": "code",
      "execution_count": null,
      "metadata": {
        "id": "kJ6TPSb2WXpL"
      },
      "outputs": [],
      "source": [
        "data_clean = [clean_text(tweet) for tweet in dataset['tweet']]"
      ]
    },
    {
      "cell_type": "code",
      "execution_count": null,
      "metadata": {
        "id": "0rFAqfb4c6da",
        "outputId": "8a59aafe-2f28-4211-f1ac-780387b9c276"
      },
      "outputs": [
        {
          "data": {
            "text/plain": [
              "[\" awww that's a bummer you shoulda got david carr of third day to do it d\",\n",
              " \"is upset that he can't update his facebook by texting it and might cry as a result school today also blah \",\n",
              " ' i dived many times for the ball managed to save the rest go out of bounds',\n",
              " 'my whole body feels itchy and like its on fire ',\n",
              " \" no it's not behaving at all i'm mad why am i here because i can't see you all over there \",\n",
              " ' not the whole crew ',\n",
              " 'need a hug ',\n",
              " \" hey long time no see yes rains a bit only a bit lol i'm fine thanks how's you \",\n",
              " \" k nope they didn't have it \",\n",
              " ' que me muera ',\n",
              " \"spring break in plain city it's snowing \",\n",
              " 'i just re pierced my ears ',\n",
              " \" i couldn't bear to watch it and i thought the ua loss was embarrassing \",\n",
              " ' it it counts idk why i did either you never talk to me anymore ',\n",
              " \" i would've been the first but i didn't have a gun not really though zac snyder's just a doucheclown \"]"
            ]
          },
          "execution_count": 16,
          "metadata": {},
          "output_type": "execute_result"
        }
      ],
      "source": [
        "data_clean[:15]"
      ]
    },
    {
      "cell_type": "markdown",
      "metadata": {
        "id": "5i5euOzvFVEs"
      },
      "source": [
        "**LEMMATIZATION & STOP WORD REMOVAL**\n",
        "\n",
        "---\n",
        "\n"
      ]
    },
    {
      "cell_type": "markdown",
      "metadata": {
        "id": "UKCKsPxlw-q5"
      },
      "source": [
        "https://aclanthology.org/W18-5406.pdf\n",
        "\n",
        "\"In general, a simple tokenization works equally or better than more complex preprocessing techniques such as lemmatization or multiword grouping, except for domain-specific datasets (such as the medical dataset in our experiments) in which sole tokenization performs poorly\" [44] \n",
        "\n",
        "--- \n",
        "\n",
        "Based on this, decided not to lemmatize, only tokenize and remove stop words "
      ]
    },
    {
      "cell_type": "code",
      "execution_count": null,
      "metadata": {
        "id": "P9DkAEVtCwoV"
      },
      "outputs": [],
      "source": [
        "nltk.download('stopwords')\n",
        "\n",
        "all_stopwords = stopwords.words('english')\n",
        "# negation is important, don't even know why it's considered a stop word\n",
        "all_stopwords.remove('not')\n",
        "\n",
        "def remove_stopwords(text):\n",
        "    text = text.split()\n",
        "    text = [word for word in text if not word in set(all_stopwords)]\n",
        "    text = ' '.join(text)\n",
        "    return text"
      ]
    },
    {
      "cell_type": "code",
      "execution_count": null,
      "metadata": {
        "id": "kf7RLrZmI6k5"
      },
      "outputs": [],
      "source": [
        "corpus = [remove_stopwords(tweet) for tweet in data_clean]"
      ]
    },
    {
      "cell_type": "code",
      "execution_count": null,
      "metadata": {
        "id": "wCc2IjZrJTQz",
        "outputId": "097146d3-7f6a-4998-9e62-191daa3fd073"
      },
      "outputs": [
        {
          "data": {
            "text/plain": [
              "[\"awww that's bummer shoulda got david carr third day\",\n",
              " \"upset can't update facebook texting might cry result school today also blah\",\n",
              " 'dived many times ball managed save rest go bounds',\n",
              " 'whole body feels itchy like fire',\n",
              " \"not behaving i'm mad can't see\",\n",
              " 'not whole crew',\n",
              " 'need hug',\n",
              " \"hey long time see yes rains bit bit lol i'm fine thanks how's\",\n",
              " 'k nope',\n",
              " 'que muera',\n",
              " 'spring break plain city snowing',\n",
              " 'pierced ears',\n",
              " 'bear watch thought ua loss embarrassing',\n",
              " 'counts idk either never talk anymore',\n",
              " \"would've first gun not really though zac snyder's doucheclown\"]"
            ]
          },
          "execution_count": 19,
          "metadata": {},
          "output_type": "execute_result"
        }
      ],
      "source": [
        "corpus[:15]"
      ]
    },
    {
      "cell_type": "markdown",
      "metadata": {
        "id": "Jwmp_9FJFahE"
      },
      "source": [
        "**EMBEDDING**\n",
        "\n",
        "---\n",
        "\n"
      ]
    },
    {
      "cell_type": "code",
      "execution_count": null,
      "metadata": {
        "id": "uI02e8Bxnwdk"
      },
      "outputs": [],
      "source": [
        "# UPGRADE TO BERT or TF-IDF LATER"
      ]
    },
    {
      "cell_type": "code",
      "execution_count": null,
      "metadata": {
        "id": "iqbql32koooA"
      },
      "outputs": [],
      "source": [
        "# from tensorflow.keras.preprocessing.text import Tokenizer\n",
        "\n",
        "# tokenizer = Tokenizer()\n",
        "# tokenizer.fit_on_texts(corpus)"
      ]
    },
    {
      "cell_type": "code",
      "execution_count": null,
      "metadata": {
        "id": "x44nBGg3seqM"
      },
      "outputs": [],
      "source": [
        "# embedded_data = tokenizer.texts_to_sequences(corpus)"
      ]
    },
    {
      "cell_type": "code",
      "execution_count": null,
      "metadata": {
        "id": "tjaKuMPLvROi"
      },
      "outputs": [],
      "source": [
        "# embedded_data[:5]"
      ]
    },
    {
      "cell_type": "code",
      "execution_count": null,
      "metadata": {
        "id": "neoyOh7a7Twj"
      },
      "outputs": [],
      "source": [
        "# BAG OF WORDS\n",
        "from sklearn.feature_extraction.text import CountVectorizer\n",
        "\n",
        "vectorizer = CountVectorizer(max_features = 1500)\n",
        "embedded_data = vectorizer.fit_transform(corpus)"
      ]
    },
    {
      "cell_type": "code",
      "execution_count": null,
      "metadata": {
        "id": "ICvMAWPgFfWc"
      },
      "outputs": [],
      "source": [
        "embedded_data = embedded_data.toarray()"
      ]
    },
    {
      "cell_type": "code",
      "execution_count": null,
      "metadata": {
        "id": "zq1HNMASEwnN",
        "outputId": "4602907b-23b5-4975-c659-c334600d0478"
      },
      "outputs": [
        {
          "data": {
            "text/plain": [
              "array([[0, 0, 0, ..., 0, 0, 0],\n",
              "       [0, 0, 0, ..., 0, 0, 0],\n",
              "       [0, 0, 0, ..., 0, 0, 0],\n",
              "       [0, 0, 0, ..., 0, 0, 0],\n",
              "       [0, 0, 0, ..., 0, 0, 0]], dtype=int64)"
            ]
          },
          "execution_count": 26,
          "metadata": {},
          "output_type": "execute_result"
        }
      ],
      "source": [
        "embedded_data[:5]"
      ]
    },
    {
      "cell_type": "markdown",
      "metadata": {
        "id": "CFu7eiopFc3z"
      },
      "source": [
        "**PADDING**\n",
        "\n",
        "---\n",
        "\n"
      ]
    },
    {
      "cell_type": "code",
      "execution_count": null,
      "metadata": {
        "id": "8H0nTAcmnwPX"
      },
      "outputs": [],
      "source": [
        "max_length = max([len(tweet) for tweet in embedded_data])\n",
        "\n",
        "padded_data = tf.keras.preprocessing.sequence.pad_sequences(embedded_data,\n",
        "                                                            value=0,\n",
        "                                                            padding=\"post\",\n",
        "                                                            maxlen=max_length)"
      ]
    },
    {
      "cell_type": "code",
      "execution_count": null,
      "metadata": {
        "id": "hijO2OHIDWzz",
        "outputId": "88a0d3f5-5f5c-4fca-8a8e-397c7c5ee6b5"
      },
      "outputs": [
        {
          "data": {
            "text/plain": [
              "array([[0, 0, 0, ..., 0, 0, 0],\n",
              "       [0, 0, 0, ..., 0, 0, 0],\n",
              "       [0, 0, 0, ..., 0, 0, 0],\n",
              "       [0, 0, 0, ..., 0, 0, 0],\n",
              "       [0, 0, 0, ..., 0, 0, 0]])"
            ]
          },
          "execution_count": 28,
          "metadata": {},
          "output_type": "execute_result"
        }
      ],
      "source": [
        "padded_data[:5]"
      ]
    },
    {
      "cell_type": "markdown",
      "metadata": {
        "id": "5uX1jZHpQ3AJ"
      },
      "source": [
        "###TRAIN/TEST/VALIDATION SPLIT\n",
        "\n",
        "---\n",
        "\n"
      ]
    },
    {
      "cell_type": "code",
      "execution_count": null,
      "metadata": {
        "id": "yG31fCQh3i7m"
      },
      "outputs": [],
      "source": [
        "X = padded_data\n",
        "\n",
        "y = dataset[\"sentiment\"].to_numpy()\n",
        "# y = y.reshape(len(X), 1)"
      ]
    },
    {
      "cell_type": "code",
      "execution_count": null,
      "metadata": {
        "colab": {
          "base_uri": "https://localhost:8080/"
        },
        "id": "XZntmwMW3TTe",
        "outputId": "b46ce8e9-bd28-49b9-b7aa-81f12f4fb8ba"
      },
      "outputs": [
        {
          "data": {
            "text/plain": [
              "(1600358, 1500)"
            ]
          },
          "execution_count": 55,
          "metadata": {},
          "output_type": "execute_result"
        }
      ],
      "source": [
        "X.shape"
      ]
    },
    {
      "cell_type": "code",
      "execution_count": null,
      "metadata": {
        "colab": {
          "base_uri": "https://localhost:8080/"
        },
        "id": "4h1hzUIo3Uct",
        "outputId": "4e722c84-488e-459a-8bfd-7e815c3ec80b"
      },
      "outputs": [
        {
          "data": {
            "text/plain": [
              "(1600358,)"
            ]
          },
          "execution_count": 56,
          "metadata": {},
          "output_type": "execute_result"
        }
      ],
      "source": [
        "y.shape"
      ]
    },
    {
      "cell_type": "code",
      "execution_count": null,
      "metadata": {
        "id": "ZCUuEvFT3bkG"
      },
      "outputs": [],
      "source": [
        "X_train, X_remaining, y_train, y_remaining = train_test_split(X, y, test_size = 0.2, random_state = 5)"
      ]
    },
    {
      "cell_type": "code",
      "execution_count": null,
      "metadata": {
        "id": "N409z9MapD9q"
      },
      "outputs": [],
      "source": [
        "X_valid, X_test, y_valid, y_test = train_test_split(X_remaining, y_remaining, test_size = 0.5, random_state = 5)"
      ]
    },
    {
      "cell_type": "code",
      "execution_count": null,
      "metadata": {
        "id": "fSTkWP2RGH5P",
        "outputId": "f419bb36-fcd4-4f23-a893-0ec0e44c5937"
      },
      "outputs": [
        {
          "data": {
            "text/plain": [
              "array([[0, 0, 0, ..., 0, 0, 0],\n",
              "       [0, 0, 0, ..., 0, 0, 0],\n",
              "       [0, 0, 0, ..., 0, 0, 0],\n",
              "       [0, 0, 0, ..., 0, 0, 0],\n",
              "       [0, 0, 0, ..., 0, 0, 0]])"
            ]
          },
          "execution_count": 59,
          "metadata": {},
          "output_type": "execute_result"
        }
      ],
      "source": [
        "X_train[:5]"
      ]
    },
    {
      "cell_type": "code",
      "execution_count": null,
      "metadata": {
        "id": "kRcAzhrjGbju",
        "outputId": "14683814-61d9-4205-a09b-54ca6e3e4ea9"
      },
      "outputs": [
        {
          "data": {
            "text/plain": [
              "array([0, 1, 0, 0, 1], dtype=int64)"
            ]
          },
          "execution_count": 60,
          "metadata": {},
          "output_type": "execute_result"
        }
      ],
      "source": [
        "y_train[:5]"
      ]
    },
    {
      "cell_type": "code",
      "execution_count": null,
      "metadata": {
        "id": "EAYloKLHxjEM",
        "outputId": "010da87f-f9b3-4176-a058-b956a01ce2a8"
      },
      "outputs": [
        {
          "data": {
            "image/png": "[encoded data removed]",
            "text/plain": [
              "<Figure size 504x504 with 1 Axes>"
            ]
          },
          "metadata": {},
          "output_type": "display_data"
        }
      ],
      "source": [
        "y_train_graph = pd.DataFrame(y_train)\n",
        "\n",
        "plt.figure(figsize=(7,7))\n",
        "plt.pie(y_train_graph.value_counts(), labels=labels, colors=colors, autopct=\"%1.1f%%\")\n",
        "plt.legend(title = \"Tweet sentiments:\")\n",
        "plt.title(\"Sentiment distribution in the training set\")\n",
        "plt.show()"
      ]
    },
    {
      "cell_type": "code",
      "execution_count": null,
      "metadata": {
        "id": "cE-4TyTwGLnH",
        "outputId": "c2114e84-24a1-47a1-eced-15b780a58686"
      },
      "outputs": [
        {
          "data": {
            "text/plain": [
              "array([[0, 0, 0, ..., 0, 0, 0],\n",
              "       [0, 0, 0, ..., 0, 0, 0],\n",
              "       [0, 0, 0, ..., 0, 0, 0],\n",
              "       [0, 0, 0, ..., 0, 0, 0],\n",
              "       [0, 0, 0, ..., 0, 0, 0]])"
            ]
          },
          "execution_count": 62,
          "metadata": {},
          "output_type": "execute_result"
        }
      ],
      "source": [
        "X_valid[:5]"
      ]
    },
    {
      "cell_type": "code",
      "execution_count": null,
      "metadata": {
        "id": "K_KNnXBPGetE",
        "outputId": "d843feca-6e95-4849-cade-efb8d7f1cf36"
      },
      "outputs": [
        {
          "data": {
            "text/plain": [
              "array([1, 0, 1, 0, 1], dtype=int64)"
            ]
          },
          "execution_count": 63,
          "metadata": {},
          "output_type": "execute_result"
        }
      ],
      "source": [
        "y_valid[:5]"
      ]
    },
    {
      "cell_type": "code",
      "execution_count": null,
      "metadata": {
        "id": "9lLZJrgQx0g5",
        "outputId": "2d0e60d4-99ee-40cc-b599-736e653d240c"
      },
      "outputs": [
        {
          "data": {
            "image/png": "[encoded data removed]",
            "text/plain": [
              "<Figure size 504x504 with 1 Axes>"
            ]
          },
          "metadata": {},
          "output_type": "display_data"
        }
      ],
      "source": [
        "y_valid_graph = pd.DataFrame(y_valid)\n",
        "\n",
        "plt.figure(figsize=(7,7))\n",
        "plt.pie(y_valid_graph.value_counts(), labels=labels, colors=colors, autopct=\"%1.1f%%\")\n",
        "plt.legend(title = \"Tweet sentiments:\")\n",
        "plt.title(\"Sentiment distribution in the validation set\")\n",
        "plt.show()"
      ]
    },
    {
      "cell_type": "code",
      "execution_count": null,
      "metadata": {
        "id": "u4vh-6KSGNIB",
        "outputId": "f1c21ec0-979a-4ade-bfc9-ac147cdc89fd"
      },
      "outputs": [
        {
          "data": {
            "text/plain": [
              "array([[0, 0, 0, ..., 0, 0, 0],\n",
              "       [0, 0, 0, ..., 0, 0, 0],\n",
              "       [0, 0, 0, ..., 0, 0, 0],\n",
              "       [0, 0, 0, ..., 0, 0, 0],\n",
              "       [0, 0, 0, ..., 0, 0, 0]])"
            ]
          },
          "execution_count": 65,
          "metadata": {},
          "output_type": "execute_result"
        }
      ],
      "source": [
        "X_test[:5]"
      ]
    },
    {
      "cell_type": "code",
      "execution_count": null,
      "metadata": {
        "id": "t1OP-RyxGjhJ",
        "outputId": "9fe342a8-30bd-4fa6-f1af-3b9e6aae8a2b"
      },
      "outputs": [
        {
          "data": {
            "text/plain": [
              "array([0, 0, 0, 0, 0], dtype=int64)"
            ]
          },
          "execution_count": 66,
          "metadata": {},
          "output_type": "execute_result"
        }
      ],
      "source": [
        "y_test[:5]"
      ]
    },
    {
      "cell_type": "code",
      "execution_count": null,
      "metadata": {
        "id": "FnuhDNyRx0cF",
        "outputId": "afc41d6e-efcf-4858-f048-e357f3b3df72"
      },
      "outputs": [
        {
          "data": {
            "image/png": "[encoded data removed]",
            "text/plain": [
              "<Figure size 504x504 with 1 Axes>"
            ]
          },
          "metadata": {},
          "output_type": "display_data"
        }
      ],
      "source": [
        "y_test_graph = pd.DataFrame(data=y_test)\n",
        "\n",
        "plt.figure(figsize=(7,7))\n",
        "plt.pie(y_test_graph.value_counts(), labels=labels, colors=colors, autopct=\"%1.1f%%\")\n",
        "plt.legend(title = \"Tweet sentiments:\")\n",
        "plt.title(\"Sentiment distribution in the test set\")\n",
        "plt.show()"
      ]
    },
    {
      "cell_type": "markdown",
      "metadata": {
        "id": "ceY9X_kbCwLt"
      },
      "source": [
        "###NEW DATA\n",
        "\n",
        "---\n",
        "\n"
      ]
    },
    {
      "cell_type": "code",
      "execution_count": null,
      "metadata": {
        "id": "EZSuA-5QCMtp"
      },
      "outputs": [],
      "source": [
        "# TENSORFLOW TOKENIZER\n",
        "# def new_data_cleanup(data):\n",
        "#     data = clean_text(data)\n",
        "#     data = remove_stopwords(data)\n",
        "#     data = tokenizer.texts_to_sequences(data)\n",
        "#     data = tf.keras.preprocessing.sequence.pad_sequences(data,\n",
        "#                                                          value=0,\n",
        "#                                                          padding=\"post\",\n",
        "#                                                          maxlen=max_length)\n",
        "#     data = data.to_numpy()\n",
        "#     return data"
      ]
    },
    {
      "cell_type": "code",
      "execution_count": null,
      "metadata": {
        "id": "52R4Qv3j-Y65"
      },
      "outputs": [],
      "source": [
        "# BAG OF WORDS\n",
        "def new_data_cleanup(data):\n",
        "     data = vectorizer.transform([data])\n",
        "     data = data.toarray()\n",
        "     return data"
      ]
    },
    {
      "cell_type": "code",
      "execution_count": null,
      "metadata": {
        "id": "QTz-DUHfC7kf"
      },
      "outputs": [],
      "source": [
        "new_tweet = \"I think @Mary is the hottest girl around!\"\n",
        "new_tweet = new_data_cleanup(new_tweet)"
      ]
    },
    {
      "cell_type": "markdown",
      "metadata": {
        "id": "GjndbhOQSHwP"
      },
      "source": [
        "### SIMPLE NAIVE BAYES"
      ]
    },
    {
      "cell_type": "markdown",
      "metadata": {
        "id": "Kam4ZR5LScp-"
      },
      "source": [
        "**MODEL CONFIGURATION**\n",
        "\n",
        "---\n",
        "\n"
      ]
    },
    {
      "cell_type": "code",
      "execution_count": null,
      "metadata": {
        "id": "1UuPN4HIAIc3"
      },
      "outputs": [],
      "source": [
        "from sklearn.naive_bayes import GaussianNB\n",
        "bayes_classifier = GaussianNB()"
      ]
    },
    {
      "cell_type": "markdown",
      "metadata": {
        "id": "eF5D8N0fSfRW"
      },
      "source": [
        "**MODEL TRAINING**\n",
        "\n",
        "---\n",
        "\n"
      ]
    },
    {
      "cell_type": "code",
      "execution_count": null,
      "metadata": {
        "id": "4n-2LUx7AJwM",
        "outputId": "7b20609b-7c12-4fb3-ded9-2714cf8dc528"
      },
      "outputs": [
        {
          "data": {
            "text/plain": [
              "GaussianNB()"
            ]
          },
          "execution_count": 72,
          "metadata": {},
          "output_type": "execute_result"
        }
      ],
      "source": [
        "bayes_classifier.fit(X_train, y_train)"
      ]
    },
    {
      "cell_type": "markdown",
      "metadata": {
        "id": "uPrgRPQTShm3"
      },
      "source": [
        "**MODEL EVALUATION**\n",
        "\n",
        "---\n",
        "\n"
      ]
    },
    {
      "cell_type": "code",
      "execution_count": null,
      "metadata": {
        "id": "i5QWtNLcAKFo"
      },
      "outputs": [],
      "source": [
        "y_pred = bayes_classifier.predict(X_test)"
      ]
    },
    {
      "cell_type": "code",
      "execution_count": null,
      "metadata": {
        "id": "5TkqXLry4tKH",
        "outputId": "1b6fbe38-5a4a-4055-80fa-c107c38ea0df"
      },
      "outputs": [
        {
          "name": "stdout",
          "output_type": "stream",
          "text": [
            "              precision    recall  f1-score   support\n",
            "\n",
            "           0       0.74      0.59      0.66     80083\n",
            "           1       0.66      0.80      0.72     79953\n",
            "\n",
            "    accuracy                           0.70    160036\n",
            "   macro avg       0.70      0.70      0.69    160036\n",
            "weighted avg       0.70      0.70      0.69    160036\n",
            "\n"
          ]
        }
      ],
      "source": [
        "print(classification_report(y_test, y_pred))"
      ]
    },
    {
      "cell_type": "code",
      "execution_count": null,
      "metadata": {
        "id": "g-1AtfqQPSeL"
      },
      "outputs": [],
      "source": [
        "# Naive Bayes works cca. 20% better with the Bag of Words embedding model than with the tf-Tokenizer (51% vs 70% accuracy)"
      ]
    },
    {
      "cell_type": "markdown",
      "metadata": {
        "id": "Ppt2b8CiSjWu"
      },
      "source": [
        "**NEW PREDICTIONS**\n",
        "\n",
        "---\n",
        "\n"
      ]
    },
    {
      "cell_type": "code",
      "execution_count": null,
      "metadata": {
        "id": "5Mg5_K79AKoG",
        "outputId": "794525f4-aa19-476a-f969-1fd38087a515"
      },
      "outputs": [
        {
          "name": "stdout",
          "output_type": "stream",
          "text": [
            "[1]\n"
          ]
        }
      ],
      "source": [
        "new_prediction = bayes_classifier.predict(new_tweet)\n",
        "print(new_prediction)"
      ]
    },
    {
      "cell_type": "markdown",
      "metadata": {
        "id": "p6wEhMJIRPxw"
      },
      "source": [
        "### CONVOLUTIONAL NEURAL NETWORK"
      ]
    },
    {
      "cell_type": "markdown",
      "metadata": {
        "id": "KsfmMGbsQ5JZ"
      },
      "source": [
        "**MODEL CONFIGURATION**\n",
        "\n",
        "---\n",
        "\n"
      ]
    },
    {
      "cell_type": "code",
      "execution_count": null,
      "metadata": {
        "id": "FFTreh_f8QXZ"
      },
      "outputs": [],
      "source": [
        "# check params\n",
        "\n",
        "# from keras.models import Sequential\n",
        "# from keras.layers import Dense\n",
        "# from keras.layers import MaxPool1D\n",
        "# from keras.layers import Embedding\n",
        "# from keras.layers import Conv1D\n",
        "# from keras.layers import Input\n",
        "# from keras.layers import GlobalMaxPool1D\n",
        "# from keras.layers import Dropout\n",
        "\n",
        "# cnn = tf.keras.models.Sequential()\n",
        "\n",
        "# cnn.add(Input(shape=T,))\n",
        "# cnn.add(Embedding(V+1, 20))\n",
        "\n",
        "# cnn.add(Conv1D(filters=32, kernel_size=3, activation='relu'))\n",
        "# cnn.add(MaxPool1D(pool_size=2))\n",
        "# cnn.add(Dropout(0.2))\n",
        "\n",
        "# cnn.add(Conv1D(filters=64, kernel_size=3, activation='relu'))\n",
        "# cnn.add(MaxPool1D(pool_size=2))\n",
        "# cnn.add(Dropout(0.2))\n",
        "\n",
        "# cnn.add(Conv1D(filters=128, kernel_size=3, activation='relu'))\n",
        "# cnn.add(GlobalMaxPool1D())\n",
        "\n",
        "# cnn.add(Dense(units=1, activation='relu'))"
      ]
    },
    {
      "cell_type": "code",
      "execution_count": null,
      "metadata": {
        "id": "j4fZw47B8Z3R"
      },
      "outputs": [],
      "source": [
        "# cnn.compile(optimizer='adam', loss='binary_crossentropy', metrics=['accuracy'])"
      ]
    },
    {
      "cell_type": "code",
      "execution_count": null,
      "metadata": {
        "id": "BzaByCkK8aJx"
      },
      "outputs": [],
      "source": [
        "# cnn.summary()"
      ]
    },
    {
      "cell_type": "markdown",
      "metadata": {
        "id": "YR78AqTJQ9fp"
      },
      "source": [
        "**MODEL TRAINING**\n",
        "\n",
        "---\n",
        "\n"
      ]
    },
    {
      "cell_type": "code",
      "execution_count": null,
      "metadata": {
        "id": "YPfcwyxQ81MJ"
      },
      "outputs": [],
      "source": [
        "# cnn.fit(x=x_train, y=y_train, epochs=5, validation_data=(x_valid, y_valid), batch_size=32)"
      ]
    },
    {
      "cell_type": "markdown",
      "metadata": {
        "id": "ImUqeNmvQ-y_"
      },
      "source": [
        "**MODEL EVALUATION**\n",
        "\n",
        "---\n",
        "\n"
      ]
    },
    {
      "cell_type": "code",
      "execution_count": null,
      "metadata": {
        "id": "n6ODifVfAT8B"
      },
      "outputs": [],
      "source": [
        "# import matplotlib.pyplot as plt\n",
        "# plt.plot(cnn.history['loss'], label='Loss')\n",
        "# plt.plot(cnn.history['val_loss'], label='Validation Loss')\n",
        "# plt.legend()\n",
        "# plt.show()"
      ]
    },
    {
      "cell_type": "code",
      "execution_count": null,
      "metadata": {
        "id": "WXFz3FEbASjn"
      },
      "outputs": [],
      "source": [
        "# plt.plot(cnn.history['accuracy'], label='Accuracy')\n",
        "# plt.plot(cnn.history['val_accuracy'], label='Validation accuracy')\n",
        "# plt.legend()\n",
        "# plt.show()"
      ]
    },
    {
      "cell_type": "code",
      "execution_count": null,
      "metadata": {
        "id": "SR44uhJXAiXu"
      },
      "outputs": [],
      "source": [
        "# y_pred = cnn.predict(X_test)\n",
        "\n",
        "# print(classification_report(y_test, y_pred))"
      ]
    },
    {
      "cell_type": "markdown",
      "metadata": {
        "id": "rMS0NzQJRHIH"
      },
      "source": [
        "**NEW PREDICTIONS**\n",
        "\n",
        "---\n",
        "\n"
      ]
    },
    {
      "cell_type": "code",
      "execution_count": null,
      "metadata": {
        "id": "r30wwtoM9YCJ"
      },
      "outputs": [],
      "source": [
        "# new_prediction = cnn.predict(new_tweet)"
      ]
    },
    {
      "cell_type": "code",
      "execution_count": null,
      "metadata": {
        "id": "RLuXAsP49M-w"
      },
      "outputs": [],
      "source": [
        "# check if values are good\n",
        "\n",
        "# def print_prediction(model_output):\n",
        "#   if model_output[0][0] > 0.7:\n",
        "#     return 'positive'\n",
        "#   else:\n",
        "#     return 'negative'"
      ]
    },
    {
      "cell_type": "code",
      "execution_count": null,
      "metadata": {
        "id": "dHvyLougD8Dc"
      },
      "outputs": [],
      "source": [
        "# print_prediction(new_prediction)"
      ]
    },
    {
      "cell_type": "markdown",
      "metadata": {
        "id": "cb93z5GTR19Y"
      },
      "source": [
        "### RECURRENT NEURAL NETWORK"
      ]
    },
    {
      "cell_type": "markdown",
      "metadata": {
        "id": "B-5u45PmR-Ov"
      },
      "source": [
        "**MODEL CONFIGURATION**\n",
        "\n",
        "---\n",
        "\n"
      ]
    },
    {
      "cell_type": "markdown",
      "metadata": {
        "id": "1QCui2nZSBan"
      },
      "source": [
        "**MODEL TRAINING**\n",
        "\n",
        "---\n",
        "\n"
      ]
    },
    {
      "cell_type": "markdown",
      "metadata": {
        "id": "dakgke9cSDaP"
      },
      "source": [
        "**MODEL EVALUATION**\n",
        "\n",
        "---\n",
        "\n"
      ]
    },
    {
      "cell_type": "markdown",
      "metadata": {
        "id": "gRk_FPvGSFtw"
      },
      "source": [
        "**NEW PREDICTIONS**\n",
        "\n",
        "---\n",
        "\n"
      ]
    }
  ],
  "metadata": {
    "colab": {
      "collapsed_sections": [],
      "name": "sentiment_analysis.ipynb",
      "provenance": []
    },
    "kernelspec": {
      "display_name": "Python 3",
      "language": "python",
      "name": "python3"
    },
    "language_info": {
      "codemirror_mode": {
        "name": "ipython",
        "version": 3
      },
      "file_extension": ".py",
      "mimetype": "text/x-python",
      "name": "python",
      "nbconvert_exporter": "python",
      "pygments_lexer": "ipython3",
      "version": "3.8.8"
    }
  },
  "nbformat": 4,
  "nbformat_minor": 0
}